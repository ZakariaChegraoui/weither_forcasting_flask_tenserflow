{
  "cells": [
    {
      "cell_type": "code",
      "execution_count": null,
      "metadata": {
        "id": "AzBxTnUyGzne"
      },
      "outputs": [],
      "source": [
        " import pandas as pd"
      ]
    },
    {
      "cell_type": "code",
      "source": [
        "import numpy as np"
      ],
      "metadata": {
        "id": "sl-HOp9fftbL"
      },
      "execution_count": null,
      "outputs": []
    },
    {
      "cell_type": "code",
      "execution_count": null,
      "metadata": {
        "id": "ru6G2cyLG2DZ"
      },
      "outputs": [],
      "source": [
        "\n",
        "df12 = pd.read_csv('data_2000.csv')\n",
        "df13 = pd.read_csv('data_2001.csv')\n",
        "df14 = pd.read_csv('data_2002.csv')\n",
        "df24 = pd.read_csv('data_2003.csv')\n",
        "df15 = pd.read_csv('data_2004.csv')\n",
        "df16 = pd.read_csv('data_2005.csv')\n",
        "df17 = pd.read_csv('data_2006.csv')\n",
        "df18 = pd.read_csv('data_2007.csv')\n",
        "df19 = pd.read_csv('data_2008.csv')\n",
        "df20 = pd.read_csv('data_2009.csv')\n",
        "df21 = pd.read_csv('data_2010.csv')\n",
        "df19 = pd.read_csv('data_2011.csv')\n",
        "df20 = pd.read_csv('data_2012.csv')\n",
        "df1 = pd.read_csv('data_2013.csv')\n",
        "df2 = pd.read_csv('data_2014.csv')\n",
        "df3 = pd.read_csv('data_2015.csv')\n",
        "df4 = pd.read_csv('data_2016.csv')\n",
        "df5 = pd.read_csv('data_2017.csv')\n",
        "df6 = pd.read_csv('data_2018.csv')\n",
        "df7 = pd.read_csv('data_2019.csv')\n",
        "df8 = pd.read_csv('data_2020.csv')\n",
        "df9 = pd.read_csv('data_2021.csv')\n",
        "df10 = pd.read_csv('data_2022.csv')\n",
        "df11 = pd.read_csv('data_2023.csv')\n",
        "temperature=pd.read_csv('temperature.csv')\n",
        "\n",
        "rainfall_data = pd.read_csv('Rain.csv')\n",
        "\n"
      ]
    },
    {
      "cell_type": "code",
      "execution_count": null,
      "metadata": {
        "colab": {
          "base_uri": "https://localhost:8080/"
        },
        "id": "hIoafof0Lk3e",
        "outputId": "30217342-4744-4465-acf4-ac7dadd2d4f9"
      },
      "outputs": [
        {
          "output_type": "execute_result",
          "data": {
            "text/plain": [
              "((52234, 12), (52385, 12), (52393, 12), (52554, 12), (52394, 12), (52378, 12))"
            ]
          },
          "metadata": {},
          "execution_count": 6
        }
      ],
      "source": [
        "df1.shape,df2.shape,df3.shape,df4.shape,df5.shape,df10.shape"
      ]
    },
    {
      "cell_type": "code",
      "execution_count": null,
      "metadata": {
        "id": "GGi6exUmNaaA"
      },
      "outputs": [],
      "source": [
        "data = pd.concat([df12,df13,df14,df24,df15,df16,df17,df18,df19,df20,df1, df2, df3, df4, df5,df6, df7, df8, df9, df10,df11], ignore_index=True)"
      ]
    },
    {
      "cell_type": "code",
      "execution_count": null,
      "metadata": {
        "colab": {
          "base_uri": "https://localhost:8080/"
        },
        "id": "I-MGGXlrE3Kh",
        "outputId": "c0e92d74-2bb3-40b4-9dc2-4c6fc15deee9"
      },
      "outputs": [
        {
          "output_type": "execute_result",
          "data": {
            "text/plain": [
              "(1070670, 12)"
            ]
          },
          "metadata": {},
          "execution_count": 8
        }
      ],
      "source": [
        "data.shape"
      ]
    },
    {
      "cell_type": "code",
      "execution_count": null,
      "metadata": {
        "id": "3G5F1qKtZ17N"
      },
      "outputs": [],
      "source": [
        "# Convert the date column to a datetime object\n",
        "temperature['date-'] = pd.to_datetime(temperature['date-'], format='%d/%m/%Y')\n",
        "\n",
        "# Convert the date column to the desired format\n",
        "temperature['date-'] = temperature['date-'].dt.strftime('%Y-%m-%d')"
      ]
    },
    {
      "cell_type": "code",
      "execution_count": null,
      "metadata": {
        "id": "ZliIuMktZ17O"
      },
      "outputs": [],
      "source": [
        "temperature[\"Date\"]=temperature[\"date-\"]\n"
      ]
    },
    {
      "cell_type": "code",
      "execution_count": null,
      "metadata": {
        "id": "cvm6eOpyZ17P"
      },
      "outputs": [],
      "source": [
        "temperature.drop(['date-'],axis = 1,inplace = True)"
      ]
    },
    {
      "cell_type": "code",
      "execution_count": null,
      "metadata": {
        "id": "6YLb7XStZ17Q"
      },
      "outputs": [],
      "source": [
        "rainfall_data.drop(['Station'],axis=1,inplace=True)"
      ]
    },
    {
      "cell_type": "code",
      "execution_count": null,
      "metadata": {
        "id": "KK-_uecCZ17R"
      },
      "outputs": [],
      "source": [
        "# Convert the date column to a datetime object\n",
        "rainfall_data['date-'] = pd.to_datetime(rainfall_data['date-'], format='%d/%m/%Y')\n",
        "\n",
        "# Convert the date column to the desired format\n",
        "rainfall_data['date-'] = rainfall_data['date-'].dt.strftime('%Y-%m-%d')\n"
      ]
    },
    {
      "cell_type": "code",
      "execution_count": null,
      "metadata": {
        "id": "2HWzA98QZ17T"
      },
      "outputs": [],
      "source": [
        "temperature.drop(['Station'],axis=1,inplace=True)"
      ]
    },
    {
      "cell_type": "code",
      "execution_count": null,
      "metadata": {
        "colab": {
          "base_uri": "https://localhost:8080/",
          "height": 424
        },
        "id": "g2iQ6yBqZ17T",
        "outputId": "f079cd24-621c-4929-9423-ffd044b73168"
      },
      "outputs": [
        {
          "output_type": "execute_result",
          "data": {
            "text/plain": [
              "           date-  Daily Rainfall (mm)\n",
              "0     2000-01-03                 22.0\n",
              "1     2000-01-04                 43.0\n",
              "2     2000-01-05                 54.4\n",
              "3     2000-01-06                  3.6\n",
              "4     2000-01-07                  4.2\n",
              "...          ...                  ...\n",
              "2666  2023-04-19                  0.1\n",
              "2667  2023-04-28                  3.4\n",
              "2668  2023-04-28                  4.6\n",
              "2669  2023-04-29                  2.5\n",
              "2670  2023-04-29                  3.0\n",
              "\n",
              "[2671 rows x 2 columns]"
            ],
            "text/html": [
              "\n",
              "  <div id=\"df-ef98ad09-017d-455d-9269-bb2f5683a839\">\n",
              "    <div class=\"colab-df-container\">\n",
              "      <div>\n",
              "<style scoped>\n",
              "    .dataframe tbody tr th:only-of-type {\n",
              "        vertical-align: middle;\n",
              "    }\n",
              "\n",
              "    .dataframe tbody tr th {\n",
              "        vertical-align: top;\n",
              "    }\n",
              "\n",
              "    .dataframe thead th {\n",
              "        text-align: right;\n",
              "    }\n",
              "</style>\n",
              "<table border=\"1\" class=\"dataframe\">\n",
              "  <thead>\n",
              "    <tr style=\"text-align: right;\">\n",
              "      <th></th>\n",
              "      <th>date-</th>\n",
              "      <th>Daily Rainfall (mm)</th>\n",
              "    </tr>\n",
              "  </thead>\n",
              "  <tbody>\n",
              "    <tr>\n",
              "      <th>0</th>\n",
              "      <td>2000-01-03</td>\n",
              "      <td>22.0</td>\n",
              "    </tr>\n",
              "    <tr>\n",
              "      <th>1</th>\n",
              "      <td>2000-01-04</td>\n",
              "      <td>43.0</td>\n",
              "    </tr>\n",
              "    <tr>\n",
              "      <th>2</th>\n",
              "      <td>2000-01-05</td>\n",
              "      <td>54.4</td>\n",
              "    </tr>\n",
              "    <tr>\n",
              "      <th>3</th>\n",
              "      <td>2000-01-06</td>\n",
              "      <td>3.6</td>\n",
              "    </tr>\n",
              "    <tr>\n",
              "      <th>4</th>\n",
              "      <td>2000-01-07</td>\n",
              "      <td>4.2</td>\n",
              "    </tr>\n",
              "    <tr>\n",
              "      <th>...</th>\n",
              "      <td>...</td>\n",
              "      <td>...</td>\n",
              "    </tr>\n",
              "    <tr>\n",
              "      <th>2666</th>\n",
              "      <td>2023-04-19</td>\n",
              "      <td>0.1</td>\n",
              "    </tr>\n",
              "    <tr>\n",
              "      <th>2667</th>\n",
              "      <td>2023-04-28</td>\n",
              "      <td>3.4</td>\n",
              "    </tr>\n",
              "    <tr>\n",
              "      <th>2668</th>\n",
              "      <td>2023-04-28</td>\n",
              "      <td>4.6</td>\n",
              "    </tr>\n",
              "    <tr>\n",
              "      <th>2669</th>\n",
              "      <td>2023-04-29</td>\n",
              "      <td>2.5</td>\n",
              "    </tr>\n",
              "    <tr>\n",
              "      <th>2670</th>\n",
              "      <td>2023-04-29</td>\n",
              "      <td>3.0</td>\n",
              "    </tr>\n",
              "  </tbody>\n",
              "</table>\n",
              "<p>2671 rows × 2 columns</p>\n",
              "</div>\n",
              "      <button class=\"colab-df-convert\" onclick=\"convertToInteractive('df-ef98ad09-017d-455d-9269-bb2f5683a839')\"\n",
              "              title=\"Convert this dataframe to an interactive table.\"\n",
              "              style=\"display:none;\">\n",
              "        \n",
              "  <svg xmlns=\"http://www.w3.org/2000/svg\" height=\"24px\"viewBox=\"0 0 24 24\"\n",
              "       width=\"24px\">\n",
              "    <path d=\"M0 0h24v24H0V0z\" fill=\"none\"/>\n",
              "    <path d=\"M18.56 5.44l.94 2.06.94-2.06 2.06-.94-2.06-.94-.94-2.06-.94 2.06-2.06.94zm-11 1L8.5 8.5l.94-2.06 2.06-.94-2.06-.94L8.5 2.5l-.94 2.06-2.06.94zm10 10l.94 2.06.94-2.06 2.06-.94-2.06-.94-.94-2.06-.94 2.06-2.06.94z\"/><path d=\"M17.41 7.96l-1.37-1.37c-.4-.4-.92-.59-1.43-.59-.52 0-1.04.2-1.43.59L10.3 9.45l-7.72 7.72c-.78.78-.78 2.05 0 2.83L4 21.41c.39.39.9.59 1.41.59.51 0 1.02-.2 1.41-.59l7.78-7.78 2.81-2.81c.8-.78.8-2.07 0-2.86zM5.41 20L4 18.59l7.72-7.72 1.47 1.35L5.41 20z\"/>\n",
              "  </svg>\n",
              "      </button>\n",
              "      \n",
              "  <style>\n",
              "    .colab-df-container {\n",
              "      display:flex;\n",
              "      flex-wrap:wrap;\n",
              "      gap: 12px;\n",
              "    }\n",
              "\n",
              "    .colab-df-convert {\n",
              "      background-color: #E8F0FE;\n",
              "      border: none;\n",
              "      border-radius: 50%;\n",
              "      cursor: pointer;\n",
              "      display: none;\n",
              "      fill: #1967D2;\n",
              "      height: 32px;\n",
              "      padding: 0 0 0 0;\n",
              "      width: 32px;\n",
              "    }\n",
              "\n",
              "    .colab-df-convert:hover {\n",
              "      background-color: #E2EBFA;\n",
              "      box-shadow: 0px 1px 2px rgba(60, 64, 67, 0.3), 0px 1px 3px 1px rgba(60, 64, 67, 0.15);\n",
              "      fill: #174EA6;\n",
              "    }\n",
              "\n",
              "    [theme=dark] .colab-df-convert {\n",
              "      background-color: #3B4455;\n",
              "      fill: #D2E3FC;\n",
              "    }\n",
              "\n",
              "    [theme=dark] .colab-df-convert:hover {\n",
              "      background-color: #434B5C;\n",
              "      box-shadow: 0px 1px 3px 1px rgba(0, 0, 0, 0.15);\n",
              "      filter: drop-shadow(0px 1px 2px rgba(0, 0, 0, 0.3));\n",
              "      fill: #FFFFFF;\n",
              "    }\n",
              "  </style>\n",
              "\n",
              "      <script>\n",
              "        const buttonEl =\n",
              "          document.querySelector('#df-ef98ad09-017d-455d-9269-bb2f5683a839 button.colab-df-convert');\n",
              "        buttonEl.style.display =\n",
              "          google.colab.kernel.accessAllowed ? 'block' : 'none';\n",
              "\n",
              "        async function convertToInteractive(key) {\n",
              "          const element = document.querySelector('#df-ef98ad09-017d-455d-9269-bb2f5683a839');\n",
              "          const dataTable =\n",
              "            await google.colab.kernel.invokeFunction('convertToInteractive',\n",
              "                                                     [key], {});\n",
              "          if (!dataTable) return;\n",
              "\n",
              "          const docLinkHtml = 'Like what you see? Visit the ' +\n",
              "            '<a target=\"_blank\" href=https://colab.research.google.com/notebooks/data_table.ipynb>data table notebook</a>'\n",
              "            + ' to learn more about interactive tables.';\n",
              "          element.innerHTML = '';\n",
              "          dataTable['output_type'] = 'display_data';\n",
              "          await google.colab.output.renderOutput(dataTable, element);\n",
              "          const docLink = document.createElement('div');\n",
              "          docLink.innerHTML = docLinkHtml;\n",
              "          element.appendChild(docLink);\n",
              "        }\n",
              "      </script>\n",
              "    </div>\n",
              "  </div>\n",
              "  "
            ]
          },
          "metadata": {},
          "execution_count": 15
        }
      ],
      "source": [
        "rainfall_data"
      ]
    },
    {
      "cell_type": "code",
      "execution_count": null,
      "metadata": {
        "id": "QaQbBAPHZ17V"
      },
      "outputs": [],
      "source": [
        "rainfall_data[\"Date\"]=rainfall_data[\"date-\"]"
      ]
    },
    {
      "cell_type": "code",
      "execution_count": null,
      "metadata": {
        "colab": {
          "base_uri": "https://localhost:8080/",
          "height": 424
        },
        "id": "E2OGJdjTZ17W",
        "outputId": "8e550fc4-0e11-44f5-8498-07d820029b8a"
      },
      "outputs": [
        {
          "output_type": "execute_result",
          "data": {
            "text/plain": [
              "           date-  Daily Rainfall (mm)        Date\n",
              "0     2000-01-03                 22.0  2000-01-03\n",
              "1     2000-01-04                 43.0  2000-01-04\n",
              "2     2000-01-05                 54.4  2000-01-05\n",
              "3     2000-01-06                  3.6  2000-01-06\n",
              "4     2000-01-07                  4.2  2000-01-07\n",
              "...          ...                  ...         ...\n",
              "2666  2023-04-19                  0.1  2023-04-19\n",
              "2667  2023-04-28                  3.4  2023-04-28\n",
              "2668  2023-04-28                  4.6  2023-04-28\n",
              "2669  2023-04-29                  2.5  2023-04-29\n",
              "2670  2023-04-29                  3.0  2023-04-29\n",
              "\n",
              "[2671 rows x 3 columns]"
            ],
            "text/html": [
              "\n",
              "  <div id=\"df-84e209b8-7459-4a51-a793-1065b098d6a4\">\n",
              "    <div class=\"colab-df-container\">\n",
              "      <div>\n",
              "<style scoped>\n",
              "    .dataframe tbody tr th:only-of-type {\n",
              "        vertical-align: middle;\n",
              "    }\n",
              "\n",
              "    .dataframe tbody tr th {\n",
              "        vertical-align: top;\n",
              "    }\n",
              "\n",
              "    .dataframe thead th {\n",
              "        text-align: right;\n",
              "    }\n",
              "</style>\n",
              "<table border=\"1\" class=\"dataframe\">\n",
              "  <thead>\n",
              "    <tr style=\"text-align: right;\">\n",
              "      <th></th>\n",
              "      <th>date-</th>\n",
              "      <th>Daily Rainfall (mm)</th>\n",
              "      <th>Date</th>\n",
              "    </tr>\n",
              "  </thead>\n",
              "  <tbody>\n",
              "    <tr>\n",
              "      <th>0</th>\n",
              "      <td>2000-01-03</td>\n",
              "      <td>22.0</td>\n",
              "      <td>2000-01-03</td>\n",
              "    </tr>\n",
              "    <tr>\n",
              "      <th>1</th>\n",
              "      <td>2000-01-04</td>\n",
              "      <td>43.0</td>\n",
              "      <td>2000-01-04</td>\n",
              "    </tr>\n",
              "    <tr>\n",
              "      <th>2</th>\n",
              "      <td>2000-01-05</td>\n",
              "      <td>54.4</td>\n",
              "      <td>2000-01-05</td>\n",
              "    </tr>\n",
              "    <tr>\n",
              "      <th>3</th>\n",
              "      <td>2000-01-06</td>\n",
              "      <td>3.6</td>\n",
              "      <td>2000-01-06</td>\n",
              "    </tr>\n",
              "    <tr>\n",
              "      <th>4</th>\n",
              "      <td>2000-01-07</td>\n",
              "      <td>4.2</td>\n",
              "      <td>2000-01-07</td>\n",
              "    </tr>\n",
              "    <tr>\n",
              "      <th>...</th>\n",
              "      <td>...</td>\n",
              "      <td>...</td>\n",
              "      <td>...</td>\n",
              "    </tr>\n",
              "    <tr>\n",
              "      <th>2666</th>\n",
              "      <td>2023-04-19</td>\n",
              "      <td>0.1</td>\n",
              "      <td>2023-04-19</td>\n",
              "    </tr>\n",
              "    <tr>\n",
              "      <th>2667</th>\n",
              "      <td>2023-04-28</td>\n",
              "      <td>3.4</td>\n",
              "      <td>2023-04-28</td>\n",
              "    </tr>\n",
              "    <tr>\n",
              "      <th>2668</th>\n",
              "      <td>2023-04-28</td>\n",
              "      <td>4.6</td>\n",
              "      <td>2023-04-28</td>\n",
              "    </tr>\n",
              "    <tr>\n",
              "      <th>2669</th>\n",
              "      <td>2023-04-29</td>\n",
              "      <td>2.5</td>\n",
              "      <td>2023-04-29</td>\n",
              "    </tr>\n",
              "    <tr>\n",
              "      <th>2670</th>\n",
              "      <td>2023-04-29</td>\n",
              "      <td>3.0</td>\n",
              "      <td>2023-04-29</td>\n",
              "    </tr>\n",
              "  </tbody>\n",
              "</table>\n",
              "<p>2671 rows × 3 columns</p>\n",
              "</div>\n",
              "      <button class=\"colab-df-convert\" onclick=\"convertToInteractive('df-84e209b8-7459-4a51-a793-1065b098d6a4')\"\n",
              "              title=\"Convert this dataframe to an interactive table.\"\n",
              "              style=\"display:none;\">\n",
              "        \n",
              "  <svg xmlns=\"http://www.w3.org/2000/svg\" height=\"24px\"viewBox=\"0 0 24 24\"\n",
              "       width=\"24px\">\n",
              "    <path d=\"M0 0h24v24H0V0z\" fill=\"none\"/>\n",
              "    <path d=\"M18.56 5.44l.94 2.06.94-2.06 2.06-.94-2.06-.94-.94-2.06-.94 2.06-2.06.94zm-11 1L8.5 8.5l.94-2.06 2.06-.94-2.06-.94L8.5 2.5l-.94 2.06-2.06.94zm10 10l.94 2.06.94-2.06 2.06-.94-2.06-.94-.94-2.06-.94 2.06-2.06.94z\"/><path d=\"M17.41 7.96l-1.37-1.37c-.4-.4-.92-.59-1.43-.59-.52 0-1.04.2-1.43.59L10.3 9.45l-7.72 7.72c-.78.78-.78 2.05 0 2.83L4 21.41c.39.39.9.59 1.41.59.51 0 1.02-.2 1.41-.59l7.78-7.78 2.81-2.81c.8-.78.8-2.07 0-2.86zM5.41 20L4 18.59l7.72-7.72 1.47 1.35L5.41 20z\"/>\n",
              "  </svg>\n",
              "      </button>\n",
              "      \n",
              "  <style>\n",
              "    .colab-df-container {\n",
              "      display:flex;\n",
              "      flex-wrap:wrap;\n",
              "      gap: 12px;\n",
              "    }\n",
              "\n",
              "    .colab-df-convert {\n",
              "      background-color: #E8F0FE;\n",
              "      border: none;\n",
              "      border-radius: 50%;\n",
              "      cursor: pointer;\n",
              "      display: none;\n",
              "      fill: #1967D2;\n",
              "      height: 32px;\n",
              "      padding: 0 0 0 0;\n",
              "      width: 32px;\n",
              "    }\n",
              "\n",
              "    .colab-df-convert:hover {\n",
              "      background-color: #E2EBFA;\n",
              "      box-shadow: 0px 1px 2px rgba(60, 64, 67, 0.3), 0px 1px 3px 1px rgba(60, 64, 67, 0.15);\n",
              "      fill: #174EA6;\n",
              "    }\n",
              "\n",
              "    [theme=dark] .colab-df-convert {\n",
              "      background-color: #3B4455;\n",
              "      fill: #D2E3FC;\n",
              "    }\n",
              "\n",
              "    [theme=dark] .colab-df-convert:hover {\n",
              "      background-color: #434B5C;\n",
              "      box-shadow: 0px 1px 3px 1px rgba(0, 0, 0, 0.15);\n",
              "      filter: drop-shadow(0px 1px 2px rgba(0, 0, 0, 0.3));\n",
              "      fill: #FFFFFF;\n",
              "    }\n",
              "  </style>\n",
              "\n",
              "      <script>\n",
              "        const buttonEl =\n",
              "          document.querySelector('#df-84e209b8-7459-4a51-a793-1065b098d6a4 button.colab-df-convert');\n",
              "        buttonEl.style.display =\n",
              "          google.colab.kernel.accessAllowed ? 'block' : 'none';\n",
              "\n",
              "        async function convertToInteractive(key) {\n",
              "          const element = document.querySelector('#df-84e209b8-7459-4a51-a793-1065b098d6a4');\n",
              "          const dataTable =\n",
              "            await google.colab.kernel.invokeFunction('convertToInteractive',\n",
              "                                                     [key], {});\n",
              "          if (!dataTable) return;\n",
              "\n",
              "          const docLinkHtml = 'Like what you see? Visit the ' +\n",
              "            '<a target=\"_blank\" href=https://colab.research.google.com/notebooks/data_table.ipynb>data table notebook</a>'\n",
              "            + ' to learn more about interactive tables.';\n",
              "          element.innerHTML = '';\n",
              "          dataTable['output_type'] = 'display_data';\n",
              "          await google.colab.output.renderOutput(dataTable, element);\n",
              "          const docLink = document.createElement('div');\n",
              "          docLink.innerHTML = docLinkHtml;\n",
              "          element.appendChild(docLink);\n",
              "        }\n",
              "      </script>\n",
              "    </div>\n",
              "  </div>\n",
              "  "
            ]
          },
          "metadata": {},
          "execution_count": 17
        }
      ],
      "source": [
        "rainfall_data"
      ]
    },
    {
      "cell_type": "code",
      "execution_count": null,
      "metadata": {
        "id": "aeZTOJamZ17X"
      },
      "outputs": [],
      "source": [
        "rainfall_data.set_index('Date', inplace=True)\n"
      ]
    },
    {
      "cell_type": "code",
      "execution_count": null,
      "metadata": {
        "colab": {
          "base_uri": "https://localhost:8080/",
          "height": 455
        },
        "id": "AfWg6at-Z17Y",
        "outputId": "675c3156-5cda-4ea6-d955-bc9cef5000c1"
      },
      "outputs": [
        {
          "output_type": "execute_result",
          "data": {
            "text/plain": [
              "                 date-  Daily Rainfall (mm)\n",
              "Date                                       \n",
              "2000-01-03  2000-01-03                 22.0\n",
              "2000-01-04  2000-01-04                 43.0\n",
              "2000-01-05  2000-01-05                 54.4\n",
              "2000-01-06  2000-01-06                  3.6\n",
              "2000-01-07  2000-01-07                  4.2\n",
              "...                ...                  ...\n",
              "2023-04-19  2023-04-19                  0.1\n",
              "2023-04-28  2023-04-28                  3.4\n",
              "2023-04-28  2023-04-28                  4.6\n",
              "2023-04-29  2023-04-29                  2.5\n",
              "2023-04-29  2023-04-29                  3.0\n",
              "\n",
              "[2671 rows x 2 columns]"
            ],
            "text/html": [
              "\n",
              "  <div id=\"df-ef8bb703-d4f6-42ac-a44e-29af403cc12c\">\n",
              "    <div class=\"colab-df-container\">\n",
              "      <div>\n",
              "<style scoped>\n",
              "    .dataframe tbody tr th:only-of-type {\n",
              "        vertical-align: middle;\n",
              "    }\n",
              "\n",
              "    .dataframe tbody tr th {\n",
              "        vertical-align: top;\n",
              "    }\n",
              "\n",
              "    .dataframe thead th {\n",
              "        text-align: right;\n",
              "    }\n",
              "</style>\n",
              "<table border=\"1\" class=\"dataframe\">\n",
              "  <thead>\n",
              "    <tr style=\"text-align: right;\">\n",
              "      <th></th>\n",
              "      <th>date-</th>\n",
              "      <th>Daily Rainfall (mm)</th>\n",
              "    </tr>\n",
              "    <tr>\n",
              "      <th>Date</th>\n",
              "      <th></th>\n",
              "      <th></th>\n",
              "    </tr>\n",
              "  </thead>\n",
              "  <tbody>\n",
              "    <tr>\n",
              "      <th>2000-01-03</th>\n",
              "      <td>2000-01-03</td>\n",
              "      <td>22.0</td>\n",
              "    </tr>\n",
              "    <tr>\n",
              "      <th>2000-01-04</th>\n",
              "      <td>2000-01-04</td>\n",
              "      <td>43.0</td>\n",
              "    </tr>\n",
              "    <tr>\n",
              "      <th>2000-01-05</th>\n",
              "      <td>2000-01-05</td>\n",
              "      <td>54.4</td>\n",
              "    </tr>\n",
              "    <tr>\n",
              "      <th>2000-01-06</th>\n",
              "      <td>2000-01-06</td>\n",
              "      <td>3.6</td>\n",
              "    </tr>\n",
              "    <tr>\n",
              "      <th>2000-01-07</th>\n",
              "      <td>2000-01-07</td>\n",
              "      <td>4.2</td>\n",
              "    </tr>\n",
              "    <tr>\n",
              "      <th>...</th>\n",
              "      <td>...</td>\n",
              "      <td>...</td>\n",
              "    </tr>\n",
              "    <tr>\n",
              "      <th>2023-04-19</th>\n",
              "      <td>2023-04-19</td>\n",
              "      <td>0.1</td>\n",
              "    </tr>\n",
              "    <tr>\n",
              "      <th>2023-04-28</th>\n",
              "      <td>2023-04-28</td>\n",
              "      <td>3.4</td>\n",
              "    </tr>\n",
              "    <tr>\n",
              "      <th>2023-04-28</th>\n",
              "      <td>2023-04-28</td>\n",
              "      <td>4.6</td>\n",
              "    </tr>\n",
              "    <tr>\n",
              "      <th>2023-04-29</th>\n",
              "      <td>2023-04-29</td>\n",
              "      <td>2.5</td>\n",
              "    </tr>\n",
              "    <tr>\n",
              "      <th>2023-04-29</th>\n",
              "      <td>2023-04-29</td>\n",
              "      <td>3.0</td>\n",
              "    </tr>\n",
              "  </tbody>\n",
              "</table>\n",
              "<p>2671 rows × 2 columns</p>\n",
              "</div>\n",
              "      <button class=\"colab-df-convert\" onclick=\"convertToInteractive('df-ef8bb703-d4f6-42ac-a44e-29af403cc12c')\"\n",
              "              title=\"Convert this dataframe to an interactive table.\"\n",
              "              style=\"display:none;\">\n",
              "        \n",
              "  <svg xmlns=\"http://www.w3.org/2000/svg\" height=\"24px\"viewBox=\"0 0 24 24\"\n",
              "       width=\"24px\">\n",
              "    <path d=\"M0 0h24v24H0V0z\" fill=\"none\"/>\n",
              "    <path d=\"M18.56 5.44l.94 2.06.94-2.06 2.06-.94-2.06-.94-.94-2.06-.94 2.06-2.06.94zm-11 1L8.5 8.5l.94-2.06 2.06-.94-2.06-.94L8.5 2.5l-.94 2.06-2.06.94zm10 10l.94 2.06.94-2.06 2.06-.94-2.06-.94-.94-2.06-.94 2.06-2.06.94z\"/><path d=\"M17.41 7.96l-1.37-1.37c-.4-.4-.92-.59-1.43-.59-.52 0-1.04.2-1.43.59L10.3 9.45l-7.72 7.72c-.78.78-.78 2.05 0 2.83L4 21.41c.39.39.9.59 1.41.59.51 0 1.02-.2 1.41-.59l7.78-7.78 2.81-2.81c.8-.78.8-2.07 0-2.86zM5.41 20L4 18.59l7.72-7.72 1.47 1.35L5.41 20z\"/>\n",
              "  </svg>\n",
              "      </button>\n",
              "      \n",
              "  <style>\n",
              "    .colab-df-container {\n",
              "      display:flex;\n",
              "      flex-wrap:wrap;\n",
              "      gap: 12px;\n",
              "    }\n",
              "\n",
              "    .colab-df-convert {\n",
              "      background-color: #E8F0FE;\n",
              "      border: none;\n",
              "      border-radius: 50%;\n",
              "      cursor: pointer;\n",
              "      display: none;\n",
              "      fill: #1967D2;\n",
              "      height: 32px;\n",
              "      padding: 0 0 0 0;\n",
              "      width: 32px;\n",
              "    }\n",
              "\n",
              "    .colab-df-convert:hover {\n",
              "      background-color: #E2EBFA;\n",
              "      box-shadow: 0px 1px 2px rgba(60, 64, 67, 0.3), 0px 1px 3px 1px rgba(60, 64, 67, 0.15);\n",
              "      fill: #174EA6;\n",
              "    }\n",
              "\n",
              "    [theme=dark] .colab-df-convert {\n",
              "      background-color: #3B4455;\n",
              "      fill: #D2E3FC;\n",
              "    }\n",
              "\n",
              "    [theme=dark] .colab-df-convert:hover {\n",
              "      background-color: #434B5C;\n",
              "      box-shadow: 0px 1px 3px 1px rgba(0, 0, 0, 0.15);\n",
              "      filter: drop-shadow(0px 1px 2px rgba(0, 0, 0, 0.3));\n",
              "      fill: #FFFFFF;\n",
              "    }\n",
              "  </style>\n",
              "\n",
              "      <script>\n",
              "        const buttonEl =\n",
              "          document.querySelector('#df-ef8bb703-d4f6-42ac-a44e-29af403cc12c button.colab-df-convert');\n",
              "        buttonEl.style.display =\n",
              "          google.colab.kernel.accessAllowed ? 'block' : 'none';\n",
              "\n",
              "        async function convertToInteractive(key) {\n",
              "          const element = document.querySelector('#df-ef8bb703-d4f6-42ac-a44e-29af403cc12c');\n",
              "          const dataTable =\n",
              "            await google.colab.kernel.invokeFunction('convertToInteractive',\n",
              "                                                     [key], {});\n",
              "          if (!dataTable) return;\n",
              "\n",
              "          const docLinkHtml = 'Like what you see? Visit the ' +\n",
              "            '<a target=\"_blank\" href=https://colab.research.google.com/notebooks/data_table.ipynb>data table notebook</a>'\n",
              "            + ' to learn more about interactive tables.';\n",
              "          element.innerHTML = '';\n",
              "          dataTable['output_type'] = 'display_data';\n",
              "          await google.colab.output.renderOutput(dataTable, element);\n",
              "          const docLink = document.createElement('div');\n",
              "          docLink.innerHTML = docLinkHtml;\n",
              "          element.appendChild(docLink);\n",
              "        }\n",
              "      </script>\n",
              "    </div>\n",
              "  </div>\n",
              "  "
            ]
          },
          "metadata": {},
          "execution_count": 19
        }
      ],
      "source": [
        "rainfall_data"
      ]
    },
    {
      "cell_type": "code",
      "execution_count": null,
      "metadata": {
        "id": "kcDNLWulZ17Y"
      },
      "outputs": [],
      "source": [
        "rainfall_data.drop(['date-'],axis = 1,inplace = True)"
      ]
    },
    {
      "cell_type": "code",
      "execution_count": null,
      "metadata": {
        "colab": {
          "base_uri": "https://localhost:8080/",
          "height": 424
        },
        "id": "rK3iqLlrIrzy",
        "outputId": "03581e73-89a6-4a86-ed3d-c3f315a6f7db"
      },
      "outputs": [
        {
          "output_type": "execute_result",
          "data": {
            "text/plain": [
              "      Maximum Temperature (°C)  Minimum Temperature (°C)        Date  \\\n",
              "0                         22.8                      15.5  2000-01-01   \n",
              "1                         19.8                      13.0  2000-01-02   \n",
              "2                         18.2                      13.4  2000-01-03   \n",
              "3                         14.7                      10.4  2000-01-04   \n",
              "4                         12.7                       4.5  2000-01-05   \n",
              "...                        ...                       ...         ...   \n",
              "8516                      22.0                      12.9  2023-04-26   \n",
              "8517                      25.2                      12.8  2023-04-27   \n",
              "8518                      20.0                      16.1  2023-04-28   \n",
              "8519                      18.7                      12.3  2023-04-29   \n",
              "8520                      18.4                      13.8  2023-04-30   \n",
              "\n",
              "      Temperature (°C)  \n",
              "0                19.15  \n",
              "1                16.40  \n",
              "2                15.80  \n",
              "3                12.55  \n",
              "4                 8.60  \n",
              "...                ...  \n",
              "8516             17.45  \n",
              "8517             19.00  \n",
              "8518             18.05  \n",
              "8519             15.50  \n",
              "8520             16.10  \n",
              "\n",
              "[8521 rows x 4 columns]"
            ],
            "text/html": [
              "\n",
              "  <div id=\"df-8750e01a-e117-4f52-91f8-4c287a559da3\">\n",
              "    <div class=\"colab-df-container\">\n",
              "      <div>\n",
              "<style scoped>\n",
              "    .dataframe tbody tr th:only-of-type {\n",
              "        vertical-align: middle;\n",
              "    }\n",
              "\n",
              "    .dataframe tbody tr th {\n",
              "        vertical-align: top;\n",
              "    }\n",
              "\n",
              "    .dataframe thead th {\n",
              "        text-align: right;\n",
              "    }\n",
              "</style>\n",
              "<table border=\"1\" class=\"dataframe\">\n",
              "  <thead>\n",
              "    <tr style=\"text-align: right;\">\n",
              "      <th></th>\n",
              "      <th>Maximum Temperature (°C)</th>\n",
              "      <th>Minimum Temperature (°C)</th>\n",
              "      <th>Date</th>\n",
              "      <th>Temperature (°C)</th>\n",
              "    </tr>\n",
              "  </thead>\n",
              "  <tbody>\n",
              "    <tr>\n",
              "      <th>0</th>\n",
              "      <td>22.8</td>\n",
              "      <td>15.5</td>\n",
              "      <td>2000-01-01</td>\n",
              "      <td>19.15</td>\n",
              "    </tr>\n",
              "    <tr>\n",
              "      <th>1</th>\n",
              "      <td>19.8</td>\n",
              "      <td>13.0</td>\n",
              "      <td>2000-01-02</td>\n",
              "      <td>16.40</td>\n",
              "    </tr>\n",
              "    <tr>\n",
              "      <th>2</th>\n",
              "      <td>18.2</td>\n",
              "      <td>13.4</td>\n",
              "      <td>2000-01-03</td>\n",
              "      <td>15.80</td>\n",
              "    </tr>\n",
              "    <tr>\n",
              "      <th>3</th>\n",
              "      <td>14.7</td>\n",
              "      <td>10.4</td>\n",
              "      <td>2000-01-04</td>\n",
              "      <td>12.55</td>\n",
              "    </tr>\n",
              "    <tr>\n",
              "      <th>4</th>\n",
              "      <td>12.7</td>\n",
              "      <td>4.5</td>\n",
              "      <td>2000-01-05</td>\n",
              "      <td>8.60</td>\n",
              "    </tr>\n",
              "    <tr>\n",
              "      <th>...</th>\n",
              "      <td>...</td>\n",
              "      <td>...</td>\n",
              "      <td>...</td>\n",
              "      <td>...</td>\n",
              "    </tr>\n",
              "    <tr>\n",
              "      <th>8516</th>\n",
              "      <td>22.0</td>\n",
              "      <td>12.9</td>\n",
              "      <td>2023-04-26</td>\n",
              "      <td>17.45</td>\n",
              "    </tr>\n",
              "    <tr>\n",
              "      <th>8517</th>\n",
              "      <td>25.2</td>\n",
              "      <td>12.8</td>\n",
              "      <td>2023-04-27</td>\n",
              "      <td>19.00</td>\n",
              "    </tr>\n",
              "    <tr>\n",
              "      <th>8518</th>\n",
              "      <td>20.0</td>\n",
              "      <td>16.1</td>\n",
              "      <td>2023-04-28</td>\n",
              "      <td>18.05</td>\n",
              "    </tr>\n",
              "    <tr>\n",
              "      <th>8519</th>\n",
              "      <td>18.7</td>\n",
              "      <td>12.3</td>\n",
              "      <td>2023-04-29</td>\n",
              "      <td>15.50</td>\n",
              "    </tr>\n",
              "    <tr>\n",
              "      <th>8520</th>\n",
              "      <td>18.4</td>\n",
              "      <td>13.8</td>\n",
              "      <td>2023-04-30</td>\n",
              "      <td>16.10</td>\n",
              "    </tr>\n",
              "  </tbody>\n",
              "</table>\n",
              "<p>8521 rows × 4 columns</p>\n",
              "</div>\n",
              "      <button class=\"colab-df-convert\" onclick=\"convertToInteractive('df-8750e01a-e117-4f52-91f8-4c287a559da3')\"\n",
              "              title=\"Convert this dataframe to an interactive table.\"\n",
              "              style=\"display:none;\">\n",
              "        \n",
              "  <svg xmlns=\"http://www.w3.org/2000/svg\" height=\"24px\"viewBox=\"0 0 24 24\"\n",
              "       width=\"24px\">\n",
              "    <path d=\"M0 0h24v24H0V0z\" fill=\"none\"/>\n",
              "    <path d=\"M18.56 5.44l.94 2.06.94-2.06 2.06-.94-2.06-.94-.94-2.06-.94 2.06-2.06.94zm-11 1L8.5 8.5l.94-2.06 2.06-.94-2.06-.94L8.5 2.5l-.94 2.06-2.06.94zm10 10l.94 2.06.94-2.06 2.06-.94-2.06-.94-.94-2.06-.94 2.06-2.06.94z\"/><path d=\"M17.41 7.96l-1.37-1.37c-.4-.4-.92-.59-1.43-.59-.52 0-1.04.2-1.43.59L10.3 9.45l-7.72 7.72c-.78.78-.78 2.05 0 2.83L4 21.41c.39.39.9.59 1.41.59.51 0 1.02-.2 1.41-.59l7.78-7.78 2.81-2.81c.8-.78.8-2.07 0-2.86zM5.41 20L4 18.59l7.72-7.72 1.47 1.35L5.41 20z\"/>\n",
              "  </svg>\n",
              "      </button>\n",
              "      \n",
              "  <style>\n",
              "    .colab-df-container {\n",
              "      display:flex;\n",
              "      flex-wrap:wrap;\n",
              "      gap: 12px;\n",
              "    }\n",
              "\n",
              "    .colab-df-convert {\n",
              "      background-color: #E8F0FE;\n",
              "      border: none;\n",
              "      border-radius: 50%;\n",
              "      cursor: pointer;\n",
              "      display: none;\n",
              "      fill: #1967D2;\n",
              "      height: 32px;\n",
              "      padding: 0 0 0 0;\n",
              "      width: 32px;\n",
              "    }\n",
              "\n",
              "    .colab-df-convert:hover {\n",
              "      background-color: #E2EBFA;\n",
              "      box-shadow: 0px 1px 2px rgba(60, 64, 67, 0.3), 0px 1px 3px 1px rgba(60, 64, 67, 0.15);\n",
              "      fill: #174EA6;\n",
              "    }\n",
              "\n",
              "    [theme=dark] .colab-df-convert {\n",
              "      background-color: #3B4455;\n",
              "      fill: #D2E3FC;\n",
              "    }\n",
              "\n",
              "    [theme=dark] .colab-df-convert:hover {\n",
              "      background-color: #434B5C;\n",
              "      box-shadow: 0px 1px 3px 1px rgba(0, 0, 0, 0.15);\n",
              "      filter: drop-shadow(0px 1px 2px rgba(0, 0, 0, 0.3));\n",
              "      fill: #FFFFFF;\n",
              "    }\n",
              "  </style>\n",
              "\n",
              "      <script>\n",
              "        const buttonEl =\n",
              "          document.querySelector('#df-8750e01a-e117-4f52-91f8-4c287a559da3 button.colab-df-convert');\n",
              "        buttonEl.style.display =\n",
              "          google.colab.kernel.accessAllowed ? 'block' : 'none';\n",
              "\n",
              "        async function convertToInteractive(key) {\n",
              "          const element = document.querySelector('#df-8750e01a-e117-4f52-91f8-4c287a559da3');\n",
              "          const dataTable =\n",
              "            await google.colab.kernel.invokeFunction('convertToInteractive',\n",
              "                                                     [key], {});\n",
              "          if (!dataTable) return;\n",
              "\n",
              "          const docLinkHtml = 'Like what you see? Visit the ' +\n",
              "            '<a target=\"_blank\" href=https://colab.research.google.com/notebooks/data_table.ipynb>data table notebook</a>'\n",
              "            + ' to learn more about interactive tables.';\n",
              "          element.innerHTML = '';\n",
              "          dataTable['output_type'] = 'display_data';\n",
              "          await google.colab.output.renderOutput(dataTable, element);\n",
              "          const docLink = document.createElement('div');\n",
              "          docLink.innerHTML = docLinkHtml;\n",
              "          element.appendChild(docLink);\n",
              "        }\n",
              "      </script>\n",
              "    </div>\n",
              "  </div>\n",
              "  "
            ]
          },
          "metadata": {},
          "execution_count": 21
        }
      ],
      "source": [
        "\n",
        "temperature['Temperature (°C)'] = (temperature['Minimum Temperature (°C)'] + temperature['Maximum Temperature (°C)']) / 2\n",
        "temperature\n"
      ]
    },
    {
      "cell_type": "code",
      "execution_count": null,
      "metadata": {
        "id": "DrbBsfyIHCvA"
      },
      "outputs": [],
      "source": [
        "#data[\"Date & Time (Summer)\"] =  data[\"Date & Time (Summer)\"].apply(pd.to_datetime)\n",
        "\n",
        "# Convert the date column to a datetime object\n",
        "data['Date & Time (Summer)'] = pd.to_datetime(data[\"Date & Time (Summer)\"], format='%d/%m/%Y %H:%M')\n",
        "\n",
        "\n",
        "# Convert the date column to the desired format\n",
        "data[\"Date & Time (Summer)\"] = data[\"Date & Time (Summer)\"].dt.strftime('%Y-%m-%d')\n"
      ]
    },
    {
      "cell_type": "code",
      "execution_count": null,
      "metadata": {
        "id": "Z6OdPCyNIT7R"
      },
      "outputs": [],
      "source": [
        "\n",
        "data[\"Date\"] = data[\"Date & Time (Summer)\"]"
      ]
    },
    {
      "cell_type": "code",
      "execution_count": null,
      "metadata": {
        "colab": {
          "base_uri": "https://localhost:8080/",
          "height": 696
        },
        "id": "3i3MODcsZ17b",
        "outputId": "742228c1-5a82-43b1-d21f-b9e2a6f7914e"
      },
      "outputs": [
        {
          "output_type": "execute_result",
          "data": {
            "text/plain": [
              "                Station Diffused radiation (W/m^2) Global radiation (W/m^2)  \\\n",
              "0        Haifa Technion                          -                        -   \n",
              "1        Haifa Technion                          -                        -   \n",
              "2        Haifa Technion                          -                        -   \n",
              "3        Haifa Technion                          -                        -   \n",
              "4        Haifa Technion                          -                        -   \n",
              "...                 ...                        ...                      ...   \n",
              "1070665  Haifa Technion                          0                        0   \n",
              "1070666  Haifa Technion                          0                        0   \n",
              "1070667  Haifa Technion                          0                        0   \n",
              "1070668  Haifa Technion                          0                        0   \n",
              "1070669  Haifa Technion                          0                        0   \n",
              "\n",
              "        Direct radiation (W/m^2) Relative humidity (%) Temperature (°C)  \\\n",
              "0                              -                     -             20.7   \n",
              "1                              -                     -             20.2   \n",
              "2                              -                     -             20.2   \n",
              "3                              -                     -             20.4   \n",
              "4                              -                     -             20.5   \n",
              "...                          ...                   ...              ...   \n",
              "1070665                        0                    24             30.8   \n",
              "1070666                        0                    27             30.5   \n",
              "1070667                        0                    28             30.2   \n",
              "1070668                        0                    30             29.9   \n",
              "1070669                        0                    30             29.5   \n",
              "\n",
              "        Maximum temperature (°C) Minimum temperature (°C) Wind direction (°)  \\\n",
              "0                             21                     20.5                155   \n",
              "1                           20.5                     20.1                157   \n",
              "2                           20.3                     20.1                158   \n",
              "3                           20.5                     20.2                170   \n",
              "4                           20.5                     20.4                159   \n",
              "...                          ...                      ...                ...   \n",
              "1070665                     30.9                     30.6                244   \n",
              "1070666                     30.6                     30.4                232   \n",
              "1070667                     30.4                       30                231   \n",
              "1070668                       30                     29.9                225   \n",
              "1070669                     29.9                     29.3                100   \n",
              "\n",
              "        Wind speed (m/s) Rainfall (mm)        Date  \n",
              "0                    1.2             -  2000-01-01  \n",
              "1                    1.1             -  2000-01-01  \n",
              "2                    1.3             -  2000-01-01  \n",
              "3                    1.5             -  2000-01-01  \n",
              "4                    1.7             -  2000-01-01  \n",
              "...                  ...           ...         ...  \n",
              "1070665                3           0.0  2023-06-02  \n",
              "1070666              3.2           0.0  2023-06-02  \n",
              "1070667              3.5           0.0  2023-06-02  \n",
              "1070668              2.9           0.0  2023-06-02  \n",
              "1070669                1           0.0  2023-06-03  \n",
              "\n",
              "[1070670 rows x 12 columns]"
            ],
            "text/html": [
              "\n",
              "  <div id=\"df-8af32645-245c-43ce-a145-75ac4378e996\">\n",
              "    <div class=\"colab-df-container\">\n",
              "      <div>\n",
              "<style scoped>\n",
              "    .dataframe tbody tr th:only-of-type {\n",
              "        vertical-align: middle;\n",
              "    }\n",
              "\n",
              "    .dataframe tbody tr th {\n",
              "        vertical-align: top;\n",
              "    }\n",
              "\n",
              "    .dataframe thead th {\n",
              "        text-align: right;\n",
              "    }\n",
              "</style>\n",
              "<table border=\"1\" class=\"dataframe\">\n",
              "  <thead>\n",
              "    <tr style=\"text-align: right;\">\n",
              "      <th></th>\n",
              "      <th>Station</th>\n",
              "      <th>Diffused radiation (W/m^2)</th>\n",
              "      <th>Global radiation (W/m^2)</th>\n",
              "      <th>Direct radiation (W/m^2)</th>\n",
              "      <th>Relative humidity (%)</th>\n",
              "      <th>Temperature (°C)</th>\n",
              "      <th>Maximum temperature (°C)</th>\n",
              "      <th>Minimum temperature (°C)</th>\n",
              "      <th>Wind direction (°)</th>\n",
              "      <th>Wind speed (m/s)</th>\n",
              "      <th>Rainfall (mm)</th>\n",
              "      <th>Date</th>\n",
              "    </tr>\n",
              "  </thead>\n",
              "  <tbody>\n",
              "    <tr>\n",
              "      <th>0</th>\n",
              "      <td>Haifa Technion</td>\n",
              "      <td>-</td>\n",
              "      <td>-</td>\n",
              "      <td>-</td>\n",
              "      <td>-</td>\n",
              "      <td>20.7</td>\n",
              "      <td>21</td>\n",
              "      <td>20.5</td>\n",
              "      <td>155</td>\n",
              "      <td>1.2</td>\n",
              "      <td>-</td>\n",
              "      <td>2000-01-01</td>\n",
              "    </tr>\n",
              "    <tr>\n",
              "      <th>1</th>\n",
              "      <td>Haifa Technion</td>\n",
              "      <td>-</td>\n",
              "      <td>-</td>\n",
              "      <td>-</td>\n",
              "      <td>-</td>\n",
              "      <td>20.2</td>\n",
              "      <td>20.5</td>\n",
              "      <td>20.1</td>\n",
              "      <td>157</td>\n",
              "      <td>1.1</td>\n",
              "      <td>-</td>\n",
              "      <td>2000-01-01</td>\n",
              "    </tr>\n",
              "    <tr>\n",
              "      <th>2</th>\n",
              "      <td>Haifa Technion</td>\n",
              "      <td>-</td>\n",
              "      <td>-</td>\n",
              "      <td>-</td>\n",
              "      <td>-</td>\n",
              "      <td>20.2</td>\n",
              "      <td>20.3</td>\n",
              "      <td>20.1</td>\n",
              "      <td>158</td>\n",
              "      <td>1.3</td>\n",
              "      <td>-</td>\n",
              "      <td>2000-01-01</td>\n",
              "    </tr>\n",
              "    <tr>\n",
              "      <th>3</th>\n",
              "      <td>Haifa Technion</td>\n",
              "      <td>-</td>\n",
              "      <td>-</td>\n",
              "      <td>-</td>\n",
              "      <td>-</td>\n",
              "      <td>20.4</td>\n",
              "      <td>20.5</td>\n",
              "      <td>20.2</td>\n",
              "      <td>170</td>\n",
              "      <td>1.5</td>\n",
              "      <td>-</td>\n",
              "      <td>2000-01-01</td>\n",
              "    </tr>\n",
              "    <tr>\n",
              "      <th>4</th>\n",
              "      <td>Haifa Technion</td>\n",
              "      <td>-</td>\n",
              "      <td>-</td>\n",
              "      <td>-</td>\n",
              "      <td>-</td>\n",
              "      <td>20.5</td>\n",
              "      <td>20.5</td>\n",
              "      <td>20.4</td>\n",
              "      <td>159</td>\n",
              "      <td>1.7</td>\n",
              "      <td>-</td>\n",
              "      <td>2000-01-01</td>\n",
              "    </tr>\n",
              "    <tr>\n",
              "      <th>...</th>\n",
              "      <td>...</td>\n",
              "      <td>...</td>\n",
              "      <td>...</td>\n",
              "      <td>...</td>\n",
              "      <td>...</td>\n",
              "      <td>...</td>\n",
              "      <td>...</td>\n",
              "      <td>...</td>\n",
              "      <td>...</td>\n",
              "      <td>...</td>\n",
              "      <td>...</td>\n",
              "      <td>...</td>\n",
              "    </tr>\n",
              "    <tr>\n",
              "      <th>1070665</th>\n",
              "      <td>Haifa Technion</td>\n",
              "      <td>0</td>\n",
              "      <td>0</td>\n",
              "      <td>0</td>\n",
              "      <td>24</td>\n",
              "      <td>30.8</td>\n",
              "      <td>30.9</td>\n",
              "      <td>30.6</td>\n",
              "      <td>244</td>\n",
              "      <td>3</td>\n",
              "      <td>0.0</td>\n",
              "      <td>2023-06-02</td>\n",
              "    </tr>\n",
              "    <tr>\n",
              "      <th>1070666</th>\n",
              "      <td>Haifa Technion</td>\n",
              "      <td>0</td>\n",
              "      <td>0</td>\n",
              "      <td>0</td>\n",
              "      <td>27</td>\n",
              "      <td>30.5</td>\n",
              "      <td>30.6</td>\n",
              "      <td>30.4</td>\n",
              "      <td>232</td>\n",
              "      <td>3.2</td>\n",
              "      <td>0.0</td>\n",
              "      <td>2023-06-02</td>\n",
              "    </tr>\n",
              "    <tr>\n",
              "      <th>1070667</th>\n",
              "      <td>Haifa Technion</td>\n",
              "      <td>0</td>\n",
              "      <td>0</td>\n",
              "      <td>0</td>\n",
              "      <td>28</td>\n",
              "      <td>30.2</td>\n",
              "      <td>30.4</td>\n",
              "      <td>30</td>\n",
              "      <td>231</td>\n",
              "      <td>3.5</td>\n",
              "      <td>0.0</td>\n",
              "      <td>2023-06-02</td>\n",
              "    </tr>\n",
              "    <tr>\n",
              "      <th>1070668</th>\n",
              "      <td>Haifa Technion</td>\n",
              "      <td>0</td>\n",
              "      <td>0</td>\n",
              "      <td>0</td>\n",
              "      <td>30</td>\n",
              "      <td>29.9</td>\n",
              "      <td>30</td>\n",
              "      <td>29.9</td>\n",
              "      <td>225</td>\n",
              "      <td>2.9</td>\n",
              "      <td>0.0</td>\n",
              "      <td>2023-06-02</td>\n",
              "    </tr>\n",
              "    <tr>\n",
              "      <th>1070669</th>\n",
              "      <td>Haifa Technion</td>\n",
              "      <td>0</td>\n",
              "      <td>0</td>\n",
              "      <td>0</td>\n",
              "      <td>30</td>\n",
              "      <td>29.5</td>\n",
              "      <td>29.9</td>\n",
              "      <td>29.3</td>\n",
              "      <td>100</td>\n",
              "      <td>1</td>\n",
              "      <td>0.0</td>\n",
              "      <td>2023-06-03</td>\n",
              "    </tr>\n",
              "  </tbody>\n",
              "</table>\n",
              "<p>1070670 rows × 12 columns</p>\n",
              "</div>\n",
              "      <button class=\"colab-df-convert\" onclick=\"convertToInteractive('df-8af32645-245c-43ce-a145-75ac4378e996')\"\n",
              "              title=\"Convert this dataframe to an interactive table.\"\n",
              "              style=\"display:none;\">\n",
              "        \n",
              "  <svg xmlns=\"http://www.w3.org/2000/svg\" height=\"24px\"viewBox=\"0 0 24 24\"\n",
              "       width=\"24px\">\n",
              "    <path d=\"M0 0h24v24H0V0z\" fill=\"none\"/>\n",
              "    <path d=\"M18.56 5.44l.94 2.06.94-2.06 2.06-.94-2.06-.94-.94-2.06-.94 2.06-2.06.94zm-11 1L8.5 8.5l.94-2.06 2.06-.94-2.06-.94L8.5 2.5l-.94 2.06-2.06.94zm10 10l.94 2.06.94-2.06 2.06-.94-2.06-.94-.94-2.06-.94 2.06-2.06.94z\"/><path d=\"M17.41 7.96l-1.37-1.37c-.4-.4-.92-.59-1.43-.59-.52 0-1.04.2-1.43.59L10.3 9.45l-7.72 7.72c-.78.78-.78 2.05 0 2.83L4 21.41c.39.39.9.59 1.41.59.51 0 1.02-.2 1.41-.59l7.78-7.78 2.81-2.81c.8-.78.8-2.07 0-2.86zM5.41 20L4 18.59l7.72-7.72 1.47 1.35L5.41 20z\"/>\n",
              "  </svg>\n",
              "      </button>\n",
              "      \n",
              "  <style>\n",
              "    .colab-df-container {\n",
              "      display:flex;\n",
              "      flex-wrap:wrap;\n",
              "      gap: 12px;\n",
              "    }\n",
              "\n",
              "    .colab-df-convert {\n",
              "      background-color: #E8F0FE;\n",
              "      border: none;\n",
              "      border-radius: 50%;\n",
              "      cursor: pointer;\n",
              "      display: none;\n",
              "      fill: #1967D2;\n",
              "      height: 32px;\n",
              "      padding: 0 0 0 0;\n",
              "      width: 32px;\n",
              "    }\n",
              "\n",
              "    .colab-df-convert:hover {\n",
              "      background-color: #E2EBFA;\n",
              "      box-shadow: 0px 1px 2px rgba(60, 64, 67, 0.3), 0px 1px 3px 1px rgba(60, 64, 67, 0.15);\n",
              "      fill: #174EA6;\n",
              "    }\n",
              "\n",
              "    [theme=dark] .colab-df-convert {\n",
              "      background-color: #3B4455;\n",
              "      fill: #D2E3FC;\n",
              "    }\n",
              "\n",
              "    [theme=dark] .colab-df-convert:hover {\n",
              "      background-color: #434B5C;\n",
              "      box-shadow: 0px 1px 3px 1px rgba(0, 0, 0, 0.15);\n",
              "      filter: drop-shadow(0px 1px 2px rgba(0, 0, 0, 0.3));\n",
              "      fill: #FFFFFF;\n",
              "    }\n",
              "  </style>\n",
              "\n",
              "      <script>\n",
              "        const buttonEl =\n",
              "          document.querySelector('#df-8af32645-245c-43ce-a145-75ac4378e996 button.colab-df-convert');\n",
              "        buttonEl.style.display =\n",
              "          google.colab.kernel.accessAllowed ? 'block' : 'none';\n",
              "\n",
              "        async function convertToInteractive(key) {\n",
              "          const element = document.querySelector('#df-8af32645-245c-43ce-a145-75ac4378e996');\n",
              "          const dataTable =\n",
              "            await google.colab.kernel.invokeFunction('convertToInteractive',\n",
              "                                                     [key], {});\n",
              "          if (!dataTable) return;\n",
              "\n",
              "          const docLinkHtml = 'Like what you see? Visit the ' +\n",
              "            '<a target=\"_blank\" href=https://colab.research.google.com/notebooks/data_table.ipynb>data table notebook</a>'\n",
              "            + ' to learn more about interactive tables.';\n",
              "          element.innerHTML = '';\n",
              "          dataTable['output_type'] = 'display_data';\n",
              "          await google.colab.output.renderOutput(dataTable, element);\n",
              "          const docLink = document.createElement('div');\n",
              "          docLink.innerHTML = docLinkHtml;\n",
              "          element.appendChild(docLink);\n",
              "        }\n",
              "      </script>\n",
              "    </div>\n",
              "  </div>\n",
              "  "
            ]
          },
          "metadata": {},
          "execution_count": 24
        }
      ],
      "source": [
        "data.drop(['Date & Time (Summer)'],axis = 1,inplace = True)\n",
        "data"
      ]
    },
    {
      "cell_type": "code",
      "execution_count": null,
      "metadata": {
        "id": "1hT91NRTZ17b"
      },
      "outputs": [],
      "source": [
        "data.set_index('Date', inplace=True)"
      ]
    },
    {
      "cell_type": "code",
      "execution_count": null,
      "metadata": {
        "id": "N44YmwqjZ17c"
      },
      "outputs": [],
      "source": [
        "data.replace('-',None,inplace=True)"
      ]
    },
    {
      "cell_type": "code",
      "execution_count": null,
      "metadata": {
        "id": "9-02fKT3Z17c"
      },
      "outputs": [],
      "source": [
        "data = data.fillna(method='bfill')\n"
      ]
    },
    {
      "cell_type": "code",
      "execution_count": null,
      "metadata": {
        "id": "e4svmurMZ17d"
      },
      "outputs": [],
      "source": [
        "data.drop(['Direct radiation (W/m^2)','Wind direction (°)','Wind speed (m/s)'],axis = 1,inplace = True)\n"
      ]
    },
    {
      "cell_type": "code",
      "execution_count": null,
      "metadata": {
        "colab": {
          "base_uri": "https://localhost:8080/",
          "height": 707
        },
        "id": "NrF5vkJiZ17d",
        "outputId": "f57bf3e0-2d82-4216-e57e-b6a98e5558ee"
      },
      "outputs": [
        {
          "output_type": "execute_result",
          "data": {
            "text/plain": [
              "                   Station Diffused radiation (W/m^2)  \\\n",
              "Date                                                    \n",
              "2000-01-01  Haifa Technion                          1   \n",
              "2000-01-01  Haifa Technion                          1   \n",
              "2000-01-01  Haifa Technion                          1   \n",
              "2000-01-01  Haifa Technion                          1   \n",
              "2000-01-01  Haifa Technion                          1   \n",
              "...                    ...                        ...   \n",
              "2023-06-02  Haifa Technion                          0   \n",
              "2023-06-02  Haifa Technion                          0   \n",
              "2023-06-02  Haifa Technion                          0   \n",
              "2023-06-02  Haifa Technion                          0   \n",
              "2023-06-03  Haifa Technion                          0   \n",
              "\n",
              "           Global radiation (W/m^2) Relative humidity (%) Temperature (°C)  \\\n",
              "Date                                                                         \n",
              "2000-01-01                        2                    63             20.7   \n",
              "2000-01-01                        2                    63             20.2   \n",
              "2000-01-01                        2                    63             20.2   \n",
              "2000-01-01                        2                    63             20.4   \n",
              "2000-01-01                        2                    63             20.5   \n",
              "...                             ...                   ...              ...   \n",
              "2023-06-02                        0                    24             30.8   \n",
              "2023-06-02                        0                    27             30.5   \n",
              "2023-06-02                        0                    28             30.2   \n",
              "2023-06-02                        0                    30             29.9   \n",
              "2023-06-03                        0                    30             29.5   \n",
              "\n",
              "           Maximum temperature (°C) Minimum temperature (°C) Rainfall (mm)  \n",
              "Date                                                                        \n",
              "2000-01-01                       21                     20.5             0  \n",
              "2000-01-01                     20.5                     20.1             0  \n",
              "2000-01-01                     20.3                     20.1             0  \n",
              "2000-01-01                     20.5                     20.2             0  \n",
              "2000-01-01                     20.5                     20.4             0  \n",
              "...                             ...                      ...           ...  \n",
              "2023-06-02                     30.9                     30.6           0.0  \n",
              "2023-06-02                     30.6                     30.4           0.0  \n",
              "2023-06-02                     30.4                       30           0.0  \n",
              "2023-06-02                       30                     29.9           0.0  \n",
              "2023-06-03                     29.9                     29.3           0.0  \n",
              "\n",
              "[1070670 rows x 8 columns]"
            ],
            "text/html": [
              "\n",
              "  <div id=\"df-d5796c28-99d5-4ad0-bea9-5a4f37500bfe\">\n",
              "    <div class=\"colab-df-container\">\n",
              "      <div>\n",
              "<style scoped>\n",
              "    .dataframe tbody tr th:only-of-type {\n",
              "        vertical-align: middle;\n",
              "    }\n",
              "\n",
              "    .dataframe tbody tr th {\n",
              "        vertical-align: top;\n",
              "    }\n",
              "\n",
              "    .dataframe thead th {\n",
              "        text-align: right;\n",
              "    }\n",
              "</style>\n",
              "<table border=\"1\" class=\"dataframe\">\n",
              "  <thead>\n",
              "    <tr style=\"text-align: right;\">\n",
              "      <th></th>\n",
              "      <th>Station</th>\n",
              "      <th>Diffused radiation (W/m^2)</th>\n",
              "      <th>Global radiation (W/m^2)</th>\n",
              "      <th>Relative humidity (%)</th>\n",
              "      <th>Temperature (°C)</th>\n",
              "      <th>Maximum temperature (°C)</th>\n",
              "      <th>Minimum temperature (°C)</th>\n",
              "      <th>Rainfall (mm)</th>\n",
              "    </tr>\n",
              "    <tr>\n",
              "      <th>Date</th>\n",
              "      <th></th>\n",
              "      <th></th>\n",
              "      <th></th>\n",
              "      <th></th>\n",
              "      <th></th>\n",
              "      <th></th>\n",
              "      <th></th>\n",
              "      <th></th>\n",
              "    </tr>\n",
              "  </thead>\n",
              "  <tbody>\n",
              "    <tr>\n",
              "      <th>2000-01-01</th>\n",
              "      <td>Haifa Technion</td>\n",
              "      <td>1</td>\n",
              "      <td>2</td>\n",
              "      <td>63</td>\n",
              "      <td>20.7</td>\n",
              "      <td>21</td>\n",
              "      <td>20.5</td>\n",
              "      <td>0</td>\n",
              "    </tr>\n",
              "    <tr>\n",
              "      <th>2000-01-01</th>\n",
              "      <td>Haifa Technion</td>\n",
              "      <td>1</td>\n",
              "      <td>2</td>\n",
              "      <td>63</td>\n",
              "      <td>20.2</td>\n",
              "      <td>20.5</td>\n",
              "      <td>20.1</td>\n",
              "      <td>0</td>\n",
              "    </tr>\n",
              "    <tr>\n",
              "      <th>2000-01-01</th>\n",
              "      <td>Haifa Technion</td>\n",
              "      <td>1</td>\n",
              "      <td>2</td>\n",
              "      <td>63</td>\n",
              "      <td>20.2</td>\n",
              "      <td>20.3</td>\n",
              "      <td>20.1</td>\n",
              "      <td>0</td>\n",
              "    </tr>\n",
              "    <tr>\n",
              "      <th>2000-01-01</th>\n",
              "      <td>Haifa Technion</td>\n",
              "      <td>1</td>\n",
              "      <td>2</td>\n",
              "      <td>63</td>\n",
              "      <td>20.4</td>\n",
              "      <td>20.5</td>\n",
              "      <td>20.2</td>\n",
              "      <td>0</td>\n",
              "    </tr>\n",
              "    <tr>\n",
              "      <th>2000-01-01</th>\n",
              "      <td>Haifa Technion</td>\n",
              "      <td>1</td>\n",
              "      <td>2</td>\n",
              "      <td>63</td>\n",
              "      <td>20.5</td>\n",
              "      <td>20.5</td>\n",
              "      <td>20.4</td>\n",
              "      <td>0</td>\n",
              "    </tr>\n",
              "    <tr>\n",
              "      <th>...</th>\n",
              "      <td>...</td>\n",
              "      <td>...</td>\n",
              "      <td>...</td>\n",
              "      <td>...</td>\n",
              "      <td>...</td>\n",
              "      <td>...</td>\n",
              "      <td>...</td>\n",
              "      <td>...</td>\n",
              "    </tr>\n",
              "    <tr>\n",
              "      <th>2023-06-02</th>\n",
              "      <td>Haifa Technion</td>\n",
              "      <td>0</td>\n",
              "      <td>0</td>\n",
              "      <td>24</td>\n",
              "      <td>30.8</td>\n",
              "      <td>30.9</td>\n",
              "      <td>30.6</td>\n",
              "      <td>0.0</td>\n",
              "    </tr>\n",
              "    <tr>\n",
              "      <th>2023-06-02</th>\n",
              "      <td>Haifa Technion</td>\n",
              "      <td>0</td>\n",
              "      <td>0</td>\n",
              "      <td>27</td>\n",
              "      <td>30.5</td>\n",
              "      <td>30.6</td>\n",
              "      <td>30.4</td>\n",
              "      <td>0.0</td>\n",
              "    </tr>\n",
              "    <tr>\n",
              "      <th>2023-06-02</th>\n",
              "      <td>Haifa Technion</td>\n",
              "      <td>0</td>\n",
              "      <td>0</td>\n",
              "      <td>28</td>\n",
              "      <td>30.2</td>\n",
              "      <td>30.4</td>\n",
              "      <td>30</td>\n",
              "      <td>0.0</td>\n",
              "    </tr>\n",
              "    <tr>\n",
              "      <th>2023-06-02</th>\n",
              "      <td>Haifa Technion</td>\n",
              "      <td>0</td>\n",
              "      <td>0</td>\n",
              "      <td>30</td>\n",
              "      <td>29.9</td>\n",
              "      <td>30</td>\n",
              "      <td>29.9</td>\n",
              "      <td>0.0</td>\n",
              "    </tr>\n",
              "    <tr>\n",
              "      <th>2023-06-03</th>\n",
              "      <td>Haifa Technion</td>\n",
              "      <td>0</td>\n",
              "      <td>0</td>\n",
              "      <td>30</td>\n",
              "      <td>29.5</td>\n",
              "      <td>29.9</td>\n",
              "      <td>29.3</td>\n",
              "      <td>0.0</td>\n",
              "    </tr>\n",
              "  </tbody>\n",
              "</table>\n",
              "<p>1070670 rows × 8 columns</p>\n",
              "</div>\n",
              "      <button class=\"colab-df-convert\" onclick=\"convertToInteractive('df-d5796c28-99d5-4ad0-bea9-5a4f37500bfe')\"\n",
              "              title=\"Convert this dataframe to an interactive table.\"\n",
              "              style=\"display:none;\">\n",
              "        \n",
              "  <svg xmlns=\"http://www.w3.org/2000/svg\" height=\"24px\"viewBox=\"0 0 24 24\"\n",
              "       width=\"24px\">\n",
              "    <path d=\"M0 0h24v24H0V0z\" fill=\"none\"/>\n",
              "    <path d=\"M18.56 5.44l.94 2.06.94-2.06 2.06-.94-2.06-.94-.94-2.06-.94 2.06-2.06.94zm-11 1L8.5 8.5l.94-2.06 2.06-.94-2.06-.94L8.5 2.5l-.94 2.06-2.06.94zm10 10l.94 2.06.94-2.06 2.06-.94-2.06-.94-.94-2.06-.94 2.06-2.06.94z\"/><path d=\"M17.41 7.96l-1.37-1.37c-.4-.4-.92-.59-1.43-.59-.52 0-1.04.2-1.43.59L10.3 9.45l-7.72 7.72c-.78.78-.78 2.05 0 2.83L4 21.41c.39.39.9.59 1.41.59.51 0 1.02-.2 1.41-.59l7.78-7.78 2.81-2.81c.8-.78.8-2.07 0-2.86zM5.41 20L4 18.59l7.72-7.72 1.47 1.35L5.41 20z\"/>\n",
              "  </svg>\n",
              "      </button>\n",
              "      \n",
              "  <style>\n",
              "    .colab-df-container {\n",
              "      display:flex;\n",
              "      flex-wrap:wrap;\n",
              "      gap: 12px;\n",
              "    }\n",
              "\n",
              "    .colab-df-convert {\n",
              "      background-color: #E8F0FE;\n",
              "      border: none;\n",
              "      border-radius: 50%;\n",
              "      cursor: pointer;\n",
              "      display: none;\n",
              "      fill: #1967D2;\n",
              "      height: 32px;\n",
              "      padding: 0 0 0 0;\n",
              "      width: 32px;\n",
              "    }\n",
              "\n",
              "    .colab-df-convert:hover {\n",
              "      background-color: #E2EBFA;\n",
              "      box-shadow: 0px 1px 2px rgba(60, 64, 67, 0.3), 0px 1px 3px 1px rgba(60, 64, 67, 0.15);\n",
              "      fill: #174EA6;\n",
              "    }\n",
              "\n",
              "    [theme=dark] .colab-df-convert {\n",
              "      background-color: #3B4455;\n",
              "      fill: #D2E3FC;\n",
              "    }\n",
              "\n",
              "    [theme=dark] .colab-df-convert:hover {\n",
              "      background-color: #434B5C;\n",
              "      box-shadow: 0px 1px 3px 1px rgba(0, 0, 0, 0.15);\n",
              "      filter: drop-shadow(0px 1px 2px rgba(0, 0, 0, 0.3));\n",
              "      fill: #FFFFFF;\n",
              "    }\n",
              "  </style>\n",
              "\n",
              "      <script>\n",
              "        const buttonEl =\n",
              "          document.querySelector('#df-d5796c28-99d5-4ad0-bea9-5a4f37500bfe button.colab-df-convert');\n",
              "        buttonEl.style.display =\n",
              "          google.colab.kernel.accessAllowed ? 'block' : 'none';\n",
              "\n",
              "        async function convertToInteractive(key) {\n",
              "          const element = document.querySelector('#df-d5796c28-99d5-4ad0-bea9-5a4f37500bfe');\n",
              "          const dataTable =\n",
              "            await google.colab.kernel.invokeFunction('convertToInteractive',\n",
              "                                                     [key], {});\n",
              "          if (!dataTable) return;\n",
              "\n",
              "          const docLinkHtml = 'Like what you see? Visit the ' +\n",
              "            '<a target=\"_blank\" href=https://colab.research.google.com/notebooks/data_table.ipynb>data table notebook</a>'\n",
              "            + ' to learn more about interactive tables.';\n",
              "          element.innerHTML = '';\n",
              "          dataTable['output_type'] = 'display_data';\n",
              "          await google.colab.output.renderOutput(dataTable, element);\n",
              "          const docLink = document.createElement('div');\n",
              "          docLink.innerHTML = docLinkHtml;\n",
              "          element.appendChild(docLink);\n",
              "        }\n",
              "      </script>\n",
              "    </div>\n",
              "  </div>\n",
              "  "
            ]
          },
          "metadata": {},
          "execution_count": 29
        }
      ],
      "source": [
        "data"
      ]
    },
    {
      "cell_type": "code",
      "execution_count": null,
      "metadata": {
        "colab": {
          "base_uri": "https://localhost:8080/"
        },
        "id": "UDBl7b5SOcOr",
        "outputId": "57b3411d-eac3-49bf-e3cb-0eef88c412fe"
      },
      "outputs": [
        {
          "output_type": "execute_result",
          "data": {
            "text/plain": [
              "Station                       0\n",
              "Diffused radiation (W/m^2)    0\n",
              "Global radiation (W/m^2)      0\n",
              "Relative humidity (%)         0\n",
              "Temperature (°C)              0\n",
              "Maximum temperature (°C)      0\n",
              "Minimum temperature (°C)      0\n",
              "Rainfall (mm)                 0\n",
              "dtype: int64"
            ]
          },
          "metadata": {},
          "execution_count": 30
        }
      ],
      "source": [
        "data.isna().sum()"
      ]
    },
    {
      "cell_type": "code",
      "execution_count": null,
      "metadata": {
        "colab": {
          "base_uri": "https://localhost:8080/"
        },
        "id": "lgk1zWhTK26D",
        "outputId": "572f18b9-e9ef-4e1a-b031-1b691ce5b440"
      },
      "outputs": [
        {
          "output_type": "execute_result",
          "data": {
            "text/plain": [
              "Station                       0.0\n",
              "Diffused radiation (W/m^2)    0.0\n",
              "Global radiation (W/m^2)      0.0\n",
              "Relative humidity (%)         0.0\n",
              "Temperature (°C)              0.0\n",
              "Maximum temperature (°C)      0.0\n",
              "Minimum temperature (°C)      0.0\n",
              "Rainfall (mm)                 0.0\n",
              "dtype: float64"
            ]
          },
          "metadata": {},
          "execution_count": 31
        }
      ],
      "source": [
        "(data.isna().sum() / data.shape[0])"
      ]
    },
    {
      "cell_type": "code",
      "execution_count": null,
      "metadata": {
        "id": "29koh9w3RxVJ"
      },
      "outputs": [],
      "source": [
        "for name in data.columns.to_list()[1:8]:\n",
        "  data[name] = data[name].astype(float)"
      ]
    },
    {
      "cell_type": "code",
      "execution_count": null,
      "metadata": {
        "id": "WyDDdWXkZ17g"
      },
      "outputs": [],
      "source": [
        "rainfall_data['Daily Rainfall (mm)']=rainfall_data['Daily Rainfall (mm)'].astype(float)"
      ]
    },
    {
      "cell_type": "code",
      "execution_count": null,
      "metadata": {
        "id": "Yd8sYG7WYxpW"
      },
      "outputs": [],
      "source": [
        "data.index = pd.to_datetime(data.index)\n",
        "\n",
        "aggregations = {\n",
        "    'Diffused radiation (W/m^2)': 'mean',\n",
        "    'Global radiation (W/m^2)': 'mean',\n",
        "    'Relative humidity (%)': 'mean',\n",
        "    'Temperature (°C)': 'mean',\n",
        "    'Maximum temperature (°C)': 'max',\n",
        "    'Minimum temperature (°C)': 'min',\n",
        "    'Rainfall (mm)': 'sum'\n",
        "}\n",
        "\n",
        "data1 = data.resample('D').agg(aggregations)\n"
      ]
    },
    {
      "cell_type": "code",
      "execution_count": null,
      "metadata": {
        "id": "F4m4JbvvZ17h"
      },
      "outputs": [],
      "source": [
        "temperature.set_index('Date', inplace=True)"
      ]
    },
    {
      "cell_type": "code",
      "execution_count": null,
      "metadata": {
        "colab": {
          "base_uri": "https://localhost:8080/",
          "height": 707
        },
        "id": "sqUCJ2e-Z17h",
        "outputId": "277aa22e-94ce-4015-9355-7a69b1a060d6"
      },
      "outputs": [
        {
          "output_type": "execute_result",
          "data": {
            "text/plain": [
              "            Diffused radiation (W/m^2)  Global radiation (W/m^2)  \\\n",
              "Date                                                               \n",
              "2000-01-01                   26.437500                116.576389   \n",
              "2000-01-02                   58.555556                 79.972222   \n",
              "2000-01-03                   44.145833                 52.847222   \n",
              "2000-01-04                   32.625000                 34.979167   \n",
              "2000-01-05                   12.340278                 12.895833   \n",
              "...                                ...                       ...   \n",
              "2023-04-25                   65.465278                295.361111   \n",
              "2023-04-26                   35.638889                338.250000   \n",
              "2023-04-27                   36.479167                333.694444   \n",
              "2023-04-28                  113.152778                243.888889   \n",
              "2023-04-29                  101.937500                180.770833   \n",
              "\n",
              "            Relative humidity (%)  Temperature (°C)  Maximum temperature (°C)  \\\n",
              "Date                                                                            \n",
              "2000-01-01              63.000000         18.739583                      22.8   \n",
              "2000-01-02              63.000000         16.320833                      19.8   \n",
              "2000-01-03              63.000000         15.921528                      18.2   \n",
              "2000-01-04              63.000000         12.334028                      13.5   \n",
              "2000-01-05              63.000000          8.462500                      12.1   \n",
              "...                           ...               ...                       ...   \n",
              "2023-04-25              75.250000         16.836806                      21.6   \n",
              "2023-04-26              73.409722         16.950694                      22.0   \n",
              "2023-04-27              53.381944         18.303472                      25.2   \n",
              "2023-04-28              65.597222         17.606250                      20.0   \n",
              "2023-04-29              69.569444         15.872222                      18.7   \n",
              "\n",
              "            Minimum temperature (°C)  Rainfall (mm)  \n",
              "Date                                                 \n",
              "2000-01-01                      14.8            0.0  \n",
              "2000-01-02                      13.0            0.0  \n",
              "2000-01-03                      12.1            0.0  \n",
              "2000-01-04                      10.4            0.0  \n",
              "2000-01-05                       4.5            0.0  \n",
              "...                              ...            ...  \n",
              "2023-04-25                      13.5            0.0  \n",
              "2023-04-26                      12.9            0.0  \n",
              "2023-04-27                      12.8            0.0  \n",
              "2023-04-28                      15.6            0.2  \n",
              "2023-04-29                      12.3            2.9  \n",
              "\n",
              "[8520 rows x 7 columns]"
            ],
            "text/html": [
              "\n",
              "  <div id=\"df-8e53ae69-2675-4ec8-81cd-d261f88b470e\">\n",
              "    <div class=\"colab-df-container\">\n",
              "      <div>\n",
              "<style scoped>\n",
              "    .dataframe tbody tr th:only-of-type {\n",
              "        vertical-align: middle;\n",
              "    }\n",
              "\n",
              "    .dataframe tbody tr th {\n",
              "        vertical-align: top;\n",
              "    }\n",
              "\n",
              "    .dataframe thead th {\n",
              "        text-align: right;\n",
              "    }\n",
              "</style>\n",
              "<table border=\"1\" class=\"dataframe\">\n",
              "  <thead>\n",
              "    <tr style=\"text-align: right;\">\n",
              "      <th></th>\n",
              "      <th>Diffused radiation (W/m^2)</th>\n",
              "      <th>Global radiation (W/m^2)</th>\n",
              "      <th>Relative humidity (%)</th>\n",
              "      <th>Temperature (°C)</th>\n",
              "      <th>Maximum temperature (°C)</th>\n",
              "      <th>Minimum temperature (°C)</th>\n",
              "      <th>Rainfall (mm)</th>\n",
              "    </tr>\n",
              "    <tr>\n",
              "      <th>Date</th>\n",
              "      <th></th>\n",
              "      <th></th>\n",
              "      <th></th>\n",
              "      <th></th>\n",
              "      <th></th>\n",
              "      <th></th>\n",
              "      <th></th>\n",
              "    </tr>\n",
              "  </thead>\n",
              "  <tbody>\n",
              "    <tr>\n",
              "      <th>2000-01-01</th>\n",
              "      <td>26.437500</td>\n",
              "      <td>116.576389</td>\n",
              "      <td>63.000000</td>\n",
              "      <td>18.739583</td>\n",
              "      <td>22.8</td>\n",
              "      <td>14.8</td>\n",
              "      <td>0.0</td>\n",
              "    </tr>\n",
              "    <tr>\n",
              "      <th>2000-01-02</th>\n",
              "      <td>58.555556</td>\n",
              "      <td>79.972222</td>\n",
              "      <td>63.000000</td>\n",
              "      <td>16.320833</td>\n",
              "      <td>19.8</td>\n",
              "      <td>13.0</td>\n",
              "      <td>0.0</td>\n",
              "    </tr>\n",
              "    <tr>\n",
              "      <th>2000-01-03</th>\n",
              "      <td>44.145833</td>\n",
              "      <td>52.847222</td>\n",
              "      <td>63.000000</td>\n",
              "      <td>15.921528</td>\n",
              "      <td>18.2</td>\n",
              "      <td>12.1</td>\n",
              "      <td>0.0</td>\n",
              "    </tr>\n",
              "    <tr>\n",
              "      <th>2000-01-04</th>\n",
              "      <td>32.625000</td>\n",
              "      <td>34.979167</td>\n",
              "      <td>63.000000</td>\n",
              "      <td>12.334028</td>\n",
              "      <td>13.5</td>\n",
              "      <td>10.4</td>\n",
              "      <td>0.0</td>\n",
              "    </tr>\n",
              "    <tr>\n",
              "      <th>2000-01-05</th>\n",
              "      <td>12.340278</td>\n",
              "      <td>12.895833</td>\n",
              "      <td>63.000000</td>\n",
              "      <td>8.462500</td>\n",
              "      <td>12.1</td>\n",
              "      <td>4.5</td>\n",
              "      <td>0.0</td>\n",
              "    </tr>\n",
              "    <tr>\n",
              "      <th>...</th>\n",
              "      <td>...</td>\n",
              "      <td>...</td>\n",
              "      <td>...</td>\n",
              "      <td>...</td>\n",
              "      <td>...</td>\n",
              "      <td>...</td>\n",
              "      <td>...</td>\n",
              "    </tr>\n",
              "    <tr>\n",
              "      <th>2023-04-25</th>\n",
              "      <td>65.465278</td>\n",
              "      <td>295.361111</td>\n",
              "      <td>75.250000</td>\n",
              "      <td>16.836806</td>\n",
              "      <td>21.6</td>\n",
              "      <td>13.5</td>\n",
              "      <td>0.0</td>\n",
              "    </tr>\n",
              "    <tr>\n",
              "      <th>2023-04-26</th>\n",
              "      <td>35.638889</td>\n",
              "      <td>338.250000</td>\n",
              "      <td>73.409722</td>\n",
              "      <td>16.950694</td>\n",
              "      <td>22.0</td>\n",
              "      <td>12.9</td>\n",
              "      <td>0.0</td>\n",
              "    </tr>\n",
              "    <tr>\n",
              "      <th>2023-04-27</th>\n",
              "      <td>36.479167</td>\n",
              "      <td>333.694444</td>\n",
              "      <td>53.381944</td>\n",
              "      <td>18.303472</td>\n",
              "      <td>25.2</td>\n",
              "      <td>12.8</td>\n",
              "      <td>0.0</td>\n",
              "    </tr>\n",
              "    <tr>\n",
              "      <th>2023-04-28</th>\n",
              "      <td>113.152778</td>\n",
              "      <td>243.888889</td>\n",
              "      <td>65.597222</td>\n",
              "      <td>17.606250</td>\n",
              "      <td>20.0</td>\n",
              "      <td>15.6</td>\n",
              "      <td>0.2</td>\n",
              "    </tr>\n",
              "    <tr>\n",
              "      <th>2023-04-29</th>\n",
              "      <td>101.937500</td>\n",
              "      <td>180.770833</td>\n",
              "      <td>69.569444</td>\n",
              "      <td>15.872222</td>\n",
              "      <td>18.7</td>\n",
              "      <td>12.3</td>\n",
              "      <td>2.9</td>\n",
              "    </tr>\n",
              "  </tbody>\n",
              "</table>\n",
              "<p>8520 rows × 7 columns</p>\n",
              "</div>\n",
              "      <button class=\"colab-df-convert\" onclick=\"convertToInteractive('df-8e53ae69-2675-4ec8-81cd-d261f88b470e')\"\n",
              "              title=\"Convert this dataframe to an interactive table.\"\n",
              "              style=\"display:none;\">\n",
              "        \n",
              "  <svg xmlns=\"http://www.w3.org/2000/svg\" height=\"24px\"viewBox=\"0 0 24 24\"\n",
              "       width=\"24px\">\n",
              "    <path d=\"M0 0h24v24H0V0z\" fill=\"none\"/>\n",
              "    <path d=\"M18.56 5.44l.94 2.06.94-2.06 2.06-.94-2.06-.94-.94-2.06-.94 2.06-2.06.94zm-11 1L8.5 8.5l.94-2.06 2.06-.94-2.06-.94L8.5 2.5l-.94 2.06-2.06.94zm10 10l.94 2.06.94-2.06 2.06-.94-2.06-.94-.94-2.06-.94 2.06-2.06.94z\"/><path d=\"M17.41 7.96l-1.37-1.37c-.4-.4-.92-.59-1.43-.59-.52 0-1.04.2-1.43.59L10.3 9.45l-7.72 7.72c-.78.78-.78 2.05 0 2.83L4 21.41c.39.39.9.59 1.41.59.51 0 1.02-.2 1.41-.59l7.78-7.78 2.81-2.81c.8-.78.8-2.07 0-2.86zM5.41 20L4 18.59l7.72-7.72 1.47 1.35L5.41 20z\"/>\n",
              "  </svg>\n",
              "      </button>\n",
              "      \n",
              "  <style>\n",
              "    .colab-df-container {\n",
              "      display:flex;\n",
              "      flex-wrap:wrap;\n",
              "      gap: 12px;\n",
              "    }\n",
              "\n",
              "    .colab-df-convert {\n",
              "      background-color: #E8F0FE;\n",
              "      border: none;\n",
              "      border-radius: 50%;\n",
              "      cursor: pointer;\n",
              "      display: none;\n",
              "      fill: #1967D2;\n",
              "      height: 32px;\n",
              "      padding: 0 0 0 0;\n",
              "      width: 32px;\n",
              "    }\n",
              "\n",
              "    .colab-df-convert:hover {\n",
              "      background-color: #E2EBFA;\n",
              "      box-shadow: 0px 1px 2px rgba(60, 64, 67, 0.3), 0px 1px 3px 1px rgba(60, 64, 67, 0.15);\n",
              "      fill: #174EA6;\n",
              "    }\n",
              "\n",
              "    [theme=dark] .colab-df-convert {\n",
              "      background-color: #3B4455;\n",
              "      fill: #D2E3FC;\n",
              "    }\n",
              "\n",
              "    [theme=dark] .colab-df-convert:hover {\n",
              "      background-color: #434B5C;\n",
              "      box-shadow: 0px 1px 3px 1px rgba(0, 0, 0, 0.15);\n",
              "      filter: drop-shadow(0px 1px 2px rgba(0, 0, 0, 0.3));\n",
              "      fill: #FFFFFF;\n",
              "    }\n",
              "  </style>\n",
              "\n",
              "      <script>\n",
              "        const buttonEl =\n",
              "          document.querySelector('#df-8e53ae69-2675-4ec8-81cd-d261f88b470e button.colab-df-convert');\n",
              "        buttonEl.style.display =\n",
              "          google.colab.kernel.accessAllowed ? 'block' : 'none';\n",
              "\n",
              "        async function convertToInteractive(key) {\n",
              "          const element = document.querySelector('#df-8e53ae69-2675-4ec8-81cd-d261f88b470e');\n",
              "          const dataTable =\n",
              "            await google.colab.kernel.invokeFunction('convertToInteractive',\n",
              "                                                     [key], {});\n",
              "          if (!dataTable) return;\n",
              "\n",
              "          const docLinkHtml = 'Like what you see? Visit the ' +\n",
              "            '<a target=\"_blank\" href=https://colab.research.google.com/notebooks/data_table.ipynb>data table notebook</a>'\n",
              "            + ' to learn more about interactive tables.';\n",
              "          element.innerHTML = '';\n",
              "          dataTable['output_type'] = 'display_data';\n",
              "          await google.colab.output.renderOutput(dataTable, element);\n",
              "          const docLink = document.createElement('div');\n",
              "          docLink.innerHTML = docLinkHtml;\n",
              "          element.appendChild(docLink);\n",
              "        }\n",
              "      </script>\n",
              "    </div>\n",
              "  </div>\n",
              "  "
            ]
          },
          "metadata": {},
          "execution_count": 37
        }
      ],
      "source": [
        "data1 = data1\n",
        "data1\n"
      ]
    },
    {
      "cell_type": "code",
      "execution_count": null,
      "metadata": {
        "colab": {
          "base_uri": "https://localhost:8080/",
          "height": 455
        },
        "id": "L0dMdtJfZ17i",
        "outputId": "8b7cf4ec-b790-4b49-857a-7d412971f074"
      },
      "outputs": [
        {
          "output_type": "execute_result",
          "data": {
            "text/plain": [
              "            Daily Rainfall (mm)\n",
              "Date                           \n",
              "2000-01-03                 22.0\n",
              "2000-01-04                 43.0\n",
              "2000-01-05                 54.4\n",
              "2000-01-06                  3.6\n",
              "2000-01-07                  4.2\n",
              "...                         ...\n",
              "2023-04-19                  0.1\n",
              "2023-04-28                  3.4\n",
              "2023-04-28                  4.6\n",
              "2023-04-29                  2.5\n",
              "2023-04-29                  3.0\n",
              "\n",
              "[2671 rows x 1 columns]"
            ],
            "text/html": [
              "\n",
              "  <div id=\"df-d8db5bd4-ab90-4ad7-8646-69a135ca606c\">\n",
              "    <div class=\"colab-df-container\">\n",
              "      <div>\n",
              "<style scoped>\n",
              "    .dataframe tbody tr th:only-of-type {\n",
              "        vertical-align: middle;\n",
              "    }\n",
              "\n",
              "    .dataframe tbody tr th {\n",
              "        vertical-align: top;\n",
              "    }\n",
              "\n",
              "    .dataframe thead th {\n",
              "        text-align: right;\n",
              "    }\n",
              "</style>\n",
              "<table border=\"1\" class=\"dataframe\">\n",
              "  <thead>\n",
              "    <tr style=\"text-align: right;\">\n",
              "      <th></th>\n",
              "      <th>Daily Rainfall (mm)</th>\n",
              "    </tr>\n",
              "    <tr>\n",
              "      <th>Date</th>\n",
              "      <th></th>\n",
              "    </tr>\n",
              "  </thead>\n",
              "  <tbody>\n",
              "    <tr>\n",
              "      <th>2000-01-03</th>\n",
              "      <td>22.0</td>\n",
              "    </tr>\n",
              "    <tr>\n",
              "      <th>2000-01-04</th>\n",
              "      <td>43.0</td>\n",
              "    </tr>\n",
              "    <tr>\n",
              "      <th>2000-01-05</th>\n",
              "      <td>54.4</td>\n",
              "    </tr>\n",
              "    <tr>\n",
              "      <th>2000-01-06</th>\n",
              "      <td>3.6</td>\n",
              "    </tr>\n",
              "    <tr>\n",
              "      <th>2000-01-07</th>\n",
              "      <td>4.2</td>\n",
              "    </tr>\n",
              "    <tr>\n",
              "      <th>...</th>\n",
              "      <td>...</td>\n",
              "    </tr>\n",
              "    <tr>\n",
              "      <th>2023-04-19</th>\n",
              "      <td>0.1</td>\n",
              "    </tr>\n",
              "    <tr>\n",
              "      <th>2023-04-28</th>\n",
              "      <td>3.4</td>\n",
              "    </tr>\n",
              "    <tr>\n",
              "      <th>2023-04-28</th>\n",
              "      <td>4.6</td>\n",
              "    </tr>\n",
              "    <tr>\n",
              "      <th>2023-04-29</th>\n",
              "      <td>2.5</td>\n",
              "    </tr>\n",
              "    <tr>\n",
              "      <th>2023-04-29</th>\n",
              "      <td>3.0</td>\n",
              "    </tr>\n",
              "  </tbody>\n",
              "</table>\n",
              "<p>2671 rows × 1 columns</p>\n",
              "</div>\n",
              "      <button class=\"colab-df-convert\" onclick=\"convertToInteractive('df-d8db5bd4-ab90-4ad7-8646-69a135ca606c')\"\n",
              "              title=\"Convert this dataframe to an interactive table.\"\n",
              "              style=\"display:none;\">\n",
              "        \n",
              "  <svg xmlns=\"http://www.w3.org/2000/svg\" height=\"24px\"viewBox=\"0 0 24 24\"\n",
              "       width=\"24px\">\n",
              "    <path d=\"M0 0h24v24H0V0z\" fill=\"none\"/>\n",
              "    <path d=\"M18.56 5.44l.94 2.06.94-2.06 2.06-.94-2.06-.94-.94-2.06-.94 2.06-2.06.94zm-11 1L8.5 8.5l.94-2.06 2.06-.94-2.06-.94L8.5 2.5l-.94 2.06-2.06.94zm10 10l.94 2.06.94-2.06 2.06-.94-2.06-.94-.94-2.06-.94 2.06-2.06.94z\"/><path d=\"M17.41 7.96l-1.37-1.37c-.4-.4-.92-.59-1.43-.59-.52 0-1.04.2-1.43.59L10.3 9.45l-7.72 7.72c-.78.78-.78 2.05 0 2.83L4 21.41c.39.39.9.59 1.41.59.51 0 1.02-.2 1.41-.59l7.78-7.78 2.81-2.81c.8-.78.8-2.07 0-2.86zM5.41 20L4 18.59l7.72-7.72 1.47 1.35L5.41 20z\"/>\n",
              "  </svg>\n",
              "      </button>\n",
              "      \n",
              "  <style>\n",
              "    .colab-df-container {\n",
              "      display:flex;\n",
              "      flex-wrap:wrap;\n",
              "      gap: 12px;\n",
              "    }\n",
              "\n",
              "    .colab-df-convert {\n",
              "      background-color: #E8F0FE;\n",
              "      border: none;\n",
              "      border-radius: 50%;\n",
              "      cursor: pointer;\n",
              "      display: none;\n",
              "      fill: #1967D2;\n",
              "      height: 32px;\n",
              "      padding: 0 0 0 0;\n",
              "      width: 32px;\n",
              "    }\n",
              "\n",
              "    .colab-df-convert:hover {\n",
              "      background-color: #E2EBFA;\n",
              "      box-shadow: 0px 1px 2px rgba(60, 64, 67, 0.3), 0px 1px 3px 1px rgba(60, 64, 67, 0.15);\n",
              "      fill: #174EA6;\n",
              "    }\n",
              "\n",
              "    [theme=dark] .colab-df-convert {\n",
              "      background-color: #3B4455;\n",
              "      fill: #D2E3FC;\n",
              "    }\n",
              "\n",
              "    [theme=dark] .colab-df-convert:hover {\n",
              "      background-color: #434B5C;\n",
              "      box-shadow: 0px 1px 3px 1px rgba(0, 0, 0, 0.15);\n",
              "      filter: drop-shadow(0px 1px 2px rgba(0, 0, 0, 0.3));\n",
              "      fill: #FFFFFF;\n",
              "    }\n",
              "  </style>\n",
              "\n",
              "      <script>\n",
              "        const buttonEl =\n",
              "          document.querySelector('#df-d8db5bd4-ab90-4ad7-8646-69a135ca606c button.colab-df-convert');\n",
              "        buttonEl.style.display =\n",
              "          google.colab.kernel.accessAllowed ? 'block' : 'none';\n",
              "\n",
              "        async function convertToInteractive(key) {\n",
              "          const element = document.querySelector('#df-d8db5bd4-ab90-4ad7-8646-69a135ca606c');\n",
              "          const dataTable =\n",
              "            await google.colab.kernel.invokeFunction('convertToInteractive',\n",
              "                                                     [key], {});\n",
              "          if (!dataTable) return;\n",
              "\n",
              "          const docLinkHtml = 'Like what you see? Visit the ' +\n",
              "            '<a target=\"_blank\" href=https://colab.research.google.com/notebooks/data_table.ipynb>data table notebook</a>'\n",
              "            + ' to learn more about interactive tables.';\n",
              "          element.innerHTML = '';\n",
              "          dataTable['output_type'] = 'display_data';\n",
              "          await google.colab.output.renderOutput(dataTable, element);\n",
              "          const docLink = document.createElement('div');\n",
              "          docLink.innerHTML = docLinkHtml;\n",
              "          element.appendChild(docLink);\n",
              "        }\n",
              "      </script>\n",
              "    </div>\n",
              "  </div>\n",
              "  "
            ]
          },
          "metadata": {},
          "execution_count": 38
        }
      ],
      "source": [
        "rainfall_data"
      ]
    },
    {
      "cell_type": "code",
      "execution_count": null,
      "metadata": {
        "id": "fyQKgJwRZ17i"
      },
      "outputs": [],
      "source": [
        "# Handling duplicates in data1\n",
        "data1 = data1.groupby(level=0).mean()\n",
        "\n",
        "# Handling duplicates in rainfall_data\n",
        "rainfall_data = rainfall_data.groupby(level=0).mean()\n"
      ]
    },
    {
      "cell_type": "code",
      "execution_count": null,
      "metadata": {
        "id": "DfH1UdcEZ17j"
      },
      "outputs": [],
      "source": [
        "# Convert index to datetime in data1 and rainfall_data\n",
        "data1.index = pd.to_datetime(data1.index)\n",
        "rainfall_data.index = pd.to_datetime(rainfall_data.index)\n",
        "temperature.index=pd.to_datetime(temperature.index)\n",
        "\n",
        "# Now, rename 'Daily Rainfall (mm)' in rainfall_data to 'Rainfall (mm)'\n",
        "rainfall_data = rainfall_data.rename(columns={'Daily Rainfall (mm)': 'Rainfall (mm)'})\n",
        "# Now, rename 'Daily Rainfall (mm)' in rainfall_data to 'Rainfall (mm)'\n",
        "temperature = temperature.rename(columns={'Maximum Temperature (°C)': 'Maximum temperature (°C)'})\n",
        "temperature = temperature.rename(columns={'Minimum Temperature (°C)': 'Minimum temperature (°C)'})\n",
        "temperature = temperature.rename(columns={'Temperature (°C)': 'Temperature (°C)'})\n",
        "\n",
        "\n",
        "\n",
        "# Use update operation, this will preserve original 'data1' values where 'rainfall_data' has NaN\n",
        "data1.update(rainfall_data)\n",
        "data1.update(temperature)\n"
      ]
    },
    {
      "cell_type": "code",
      "execution_count": null,
      "metadata": {
        "id": "OSoWvfAnZ17j"
      },
      "outputs": [],
      "source": [
        "data1=data1.fillna(data1.median())"
      ]
    },
    {
      "cell_type": "code",
      "execution_count": null,
      "metadata": {
        "colab": {
          "base_uri": "https://localhost:8080/",
          "height": 455
        },
        "id": "kGkCxkNTZ17k",
        "outputId": "8721ded2-2b55-4521-d306-e357008fbc45"
      },
      "outputs": [
        {
          "output_type": "execute_result",
          "data": {
            "text/plain": [
              "            Rainfall (mm)\n",
              "Date                     \n",
              "2000-01-03          22.00\n",
              "2000-01-04          43.00\n",
              "2000-01-05          54.40\n",
              "2000-01-06           3.60\n",
              "2000-01-07           4.20\n",
              "...                   ...\n",
              "2023-04-12          45.10\n",
              "2023-04-13           4.05\n",
              "2023-04-19           0.10\n",
              "2023-04-28           4.00\n",
              "2023-04-29           2.75\n",
              "\n",
              "[1561 rows x 1 columns]"
            ],
            "text/html": [
              "\n",
              "  <div id=\"df-93abe261-d241-4c4c-81fd-207ed4fe1172\">\n",
              "    <div class=\"colab-df-container\">\n",
              "      <div>\n",
              "<style scoped>\n",
              "    .dataframe tbody tr th:only-of-type {\n",
              "        vertical-align: middle;\n",
              "    }\n",
              "\n",
              "    .dataframe tbody tr th {\n",
              "        vertical-align: top;\n",
              "    }\n",
              "\n",
              "    .dataframe thead th {\n",
              "        text-align: right;\n",
              "    }\n",
              "</style>\n",
              "<table border=\"1\" class=\"dataframe\">\n",
              "  <thead>\n",
              "    <tr style=\"text-align: right;\">\n",
              "      <th></th>\n",
              "      <th>Rainfall (mm)</th>\n",
              "    </tr>\n",
              "    <tr>\n",
              "      <th>Date</th>\n",
              "      <th></th>\n",
              "    </tr>\n",
              "  </thead>\n",
              "  <tbody>\n",
              "    <tr>\n",
              "      <th>2000-01-03</th>\n",
              "      <td>22.00</td>\n",
              "    </tr>\n",
              "    <tr>\n",
              "      <th>2000-01-04</th>\n",
              "      <td>43.00</td>\n",
              "    </tr>\n",
              "    <tr>\n",
              "      <th>2000-01-05</th>\n",
              "      <td>54.40</td>\n",
              "    </tr>\n",
              "    <tr>\n",
              "      <th>2000-01-06</th>\n",
              "      <td>3.60</td>\n",
              "    </tr>\n",
              "    <tr>\n",
              "      <th>2000-01-07</th>\n",
              "      <td>4.20</td>\n",
              "    </tr>\n",
              "    <tr>\n",
              "      <th>...</th>\n",
              "      <td>...</td>\n",
              "    </tr>\n",
              "    <tr>\n",
              "      <th>2023-04-12</th>\n",
              "      <td>45.10</td>\n",
              "    </tr>\n",
              "    <tr>\n",
              "      <th>2023-04-13</th>\n",
              "      <td>4.05</td>\n",
              "    </tr>\n",
              "    <tr>\n",
              "      <th>2023-04-19</th>\n",
              "      <td>0.10</td>\n",
              "    </tr>\n",
              "    <tr>\n",
              "      <th>2023-04-28</th>\n",
              "      <td>4.00</td>\n",
              "    </tr>\n",
              "    <tr>\n",
              "      <th>2023-04-29</th>\n",
              "      <td>2.75</td>\n",
              "    </tr>\n",
              "  </tbody>\n",
              "</table>\n",
              "<p>1561 rows × 1 columns</p>\n",
              "</div>\n",
              "      <button class=\"colab-df-convert\" onclick=\"convertToInteractive('df-93abe261-d241-4c4c-81fd-207ed4fe1172')\"\n",
              "              title=\"Convert this dataframe to an interactive table.\"\n",
              "              style=\"display:none;\">\n",
              "        \n",
              "  <svg xmlns=\"http://www.w3.org/2000/svg\" height=\"24px\"viewBox=\"0 0 24 24\"\n",
              "       width=\"24px\">\n",
              "    <path d=\"M0 0h24v24H0V0z\" fill=\"none\"/>\n",
              "    <path d=\"M18.56 5.44l.94 2.06.94-2.06 2.06-.94-2.06-.94-.94-2.06-.94 2.06-2.06.94zm-11 1L8.5 8.5l.94-2.06 2.06-.94-2.06-.94L8.5 2.5l-.94 2.06-2.06.94zm10 10l.94 2.06.94-2.06 2.06-.94-2.06-.94-.94-2.06-.94 2.06-2.06.94z\"/><path d=\"M17.41 7.96l-1.37-1.37c-.4-.4-.92-.59-1.43-.59-.52 0-1.04.2-1.43.59L10.3 9.45l-7.72 7.72c-.78.78-.78 2.05 0 2.83L4 21.41c.39.39.9.59 1.41.59.51 0 1.02-.2 1.41-.59l7.78-7.78 2.81-2.81c.8-.78.8-2.07 0-2.86zM5.41 20L4 18.59l7.72-7.72 1.47 1.35L5.41 20z\"/>\n",
              "  </svg>\n",
              "      </button>\n",
              "      \n",
              "  <style>\n",
              "    .colab-df-container {\n",
              "      display:flex;\n",
              "      flex-wrap:wrap;\n",
              "      gap: 12px;\n",
              "    }\n",
              "\n",
              "    .colab-df-convert {\n",
              "      background-color: #E8F0FE;\n",
              "      border: none;\n",
              "      border-radius: 50%;\n",
              "      cursor: pointer;\n",
              "      display: none;\n",
              "      fill: #1967D2;\n",
              "      height: 32px;\n",
              "      padding: 0 0 0 0;\n",
              "      width: 32px;\n",
              "    }\n",
              "\n",
              "    .colab-df-convert:hover {\n",
              "      background-color: #E2EBFA;\n",
              "      box-shadow: 0px 1px 2px rgba(60, 64, 67, 0.3), 0px 1px 3px 1px rgba(60, 64, 67, 0.15);\n",
              "      fill: #174EA6;\n",
              "    }\n",
              "\n",
              "    [theme=dark] .colab-df-convert {\n",
              "      background-color: #3B4455;\n",
              "      fill: #D2E3FC;\n",
              "    }\n",
              "\n",
              "    [theme=dark] .colab-df-convert:hover {\n",
              "      background-color: #434B5C;\n",
              "      box-shadow: 0px 1px 3px 1px rgba(0, 0, 0, 0.15);\n",
              "      filter: drop-shadow(0px 1px 2px rgba(0, 0, 0, 0.3));\n",
              "      fill: #FFFFFF;\n",
              "    }\n",
              "  </style>\n",
              "\n",
              "      <script>\n",
              "        const buttonEl =\n",
              "          document.querySelector('#df-93abe261-d241-4c4c-81fd-207ed4fe1172 button.colab-df-convert');\n",
              "        buttonEl.style.display =\n",
              "          google.colab.kernel.accessAllowed ? 'block' : 'none';\n",
              "\n",
              "        async function convertToInteractive(key) {\n",
              "          const element = document.querySelector('#df-93abe261-d241-4c4c-81fd-207ed4fe1172');\n",
              "          const dataTable =\n",
              "            await google.colab.kernel.invokeFunction('convertToInteractive',\n",
              "                                                     [key], {});\n",
              "          if (!dataTable) return;\n",
              "\n",
              "          const docLinkHtml = 'Like what you see? Visit the ' +\n",
              "            '<a target=\"_blank\" href=https://colab.research.google.com/notebooks/data_table.ipynb>data table notebook</a>'\n",
              "            + ' to learn more about interactive tables.';\n",
              "          element.innerHTML = '';\n",
              "          dataTable['output_type'] = 'display_data';\n",
              "          await google.colab.output.renderOutput(dataTable, element);\n",
              "          const docLink = document.createElement('div');\n",
              "          docLink.innerHTML = docLinkHtml;\n",
              "          element.appendChild(docLink);\n",
              "        }\n",
              "      </script>\n",
              "    </div>\n",
              "  </div>\n",
              "  "
            ]
          },
          "metadata": {},
          "execution_count": 42
        }
      ],
      "source": [
        "rainfall_data"
      ]
    },
    {
      "cell_type": "code",
      "execution_count": null,
      "metadata": {
        "colab": {
          "base_uri": "https://localhost:8080/",
          "height": 707
        },
        "id": "l4YAaKFaZ17k",
        "outputId": "30c2efd0-53c2-41d8-f541-d3fccec076b7"
      },
      "outputs": [
        {
          "output_type": "execute_result",
          "data": {
            "text/plain": [
              "            Diffused radiation (W/m^2)  Global radiation (W/m^2)  \\\n",
              "Date                                                               \n",
              "2000-01-01                   26.437500                116.576389   \n",
              "2000-01-02                   58.555556                 79.972222   \n",
              "2000-01-03                   44.145833                 52.847222   \n",
              "2000-01-04                   32.625000                 34.979167   \n",
              "2000-01-05                   12.340278                 12.895833   \n",
              "...                                ...                       ...   \n",
              "2023-04-25                   65.465278                295.361111   \n",
              "2023-04-26                   35.638889                338.250000   \n",
              "2023-04-27                   36.479167                333.694444   \n",
              "2023-04-28                  113.152778                243.888889   \n",
              "2023-04-29                  101.937500                180.770833   \n",
              "\n",
              "            Relative humidity (%)  Temperature (°C)  Maximum temperature (°C)  \\\n",
              "Date                                                                            \n",
              "2000-01-01              63.000000             19.15                      22.8   \n",
              "2000-01-02              63.000000             16.40                      19.8   \n",
              "2000-01-03              63.000000             15.80                      18.2   \n",
              "2000-01-04              63.000000             12.55                      14.7   \n",
              "2000-01-05              63.000000              8.60                      12.7   \n",
              "...                           ...               ...                       ...   \n",
              "2023-04-25              75.250000             17.55                      21.6   \n",
              "2023-04-26              73.409722             17.45                      22.0   \n",
              "2023-04-27              53.381944             19.00                      25.2   \n",
              "2023-04-28              65.597222             18.05                      20.0   \n",
              "2023-04-29              69.569444             15.50                      18.7   \n",
              "\n",
              "            Minimum temperature (°C)  Rainfall (mm)  \n",
              "Date                                                 \n",
              "2000-01-01                      15.5           0.00  \n",
              "2000-01-02                      13.0           0.00  \n",
              "2000-01-03                      13.4          22.00  \n",
              "2000-01-04                      10.4          43.00  \n",
              "2000-01-05                       4.5          54.40  \n",
              "...                              ...            ...  \n",
              "2023-04-25                      13.5           0.00  \n",
              "2023-04-26                      12.9           0.00  \n",
              "2023-04-27                      12.8           0.00  \n",
              "2023-04-28                      16.1           4.00  \n",
              "2023-04-29                      12.3           2.75  \n",
              "\n",
              "[8520 rows x 7 columns]"
            ],
            "text/html": [
              "\n",
              "  <div id=\"df-461ef117-3090-48c8-b373-50eb24a48a14\">\n",
              "    <div class=\"colab-df-container\">\n",
              "      <div>\n",
              "<style scoped>\n",
              "    .dataframe tbody tr th:only-of-type {\n",
              "        vertical-align: middle;\n",
              "    }\n",
              "\n",
              "    .dataframe tbody tr th {\n",
              "        vertical-align: top;\n",
              "    }\n",
              "\n",
              "    .dataframe thead th {\n",
              "        text-align: right;\n",
              "    }\n",
              "</style>\n",
              "<table border=\"1\" class=\"dataframe\">\n",
              "  <thead>\n",
              "    <tr style=\"text-align: right;\">\n",
              "      <th></th>\n",
              "      <th>Diffused radiation (W/m^2)</th>\n",
              "      <th>Global radiation (W/m^2)</th>\n",
              "      <th>Relative humidity (%)</th>\n",
              "      <th>Temperature (°C)</th>\n",
              "      <th>Maximum temperature (°C)</th>\n",
              "      <th>Minimum temperature (°C)</th>\n",
              "      <th>Rainfall (mm)</th>\n",
              "    </tr>\n",
              "    <tr>\n",
              "      <th>Date</th>\n",
              "      <th></th>\n",
              "      <th></th>\n",
              "      <th></th>\n",
              "      <th></th>\n",
              "      <th></th>\n",
              "      <th></th>\n",
              "      <th></th>\n",
              "    </tr>\n",
              "  </thead>\n",
              "  <tbody>\n",
              "    <tr>\n",
              "      <th>2000-01-01</th>\n",
              "      <td>26.437500</td>\n",
              "      <td>116.576389</td>\n",
              "      <td>63.000000</td>\n",
              "      <td>19.15</td>\n",
              "      <td>22.8</td>\n",
              "      <td>15.5</td>\n",
              "      <td>0.00</td>\n",
              "    </tr>\n",
              "    <tr>\n",
              "      <th>2000-01-02</th>\n",
              "      <td>58.555556</td>\n",
              "      <td>79.972222</td>\n",
              "      <td>63.000000</td>\n",
              "      <td>16.40</td>\n",
              "      <td>19.8</td>\n",
              "      <td>13.0</td>\n",
              "      <td>0.00</td>\n",
              "    </tr>\n",
              "    <tr>\n",
              "      <th>2000-01-03</th>\n",
              "      <td>44.145833</td>\n",
              "      <td>52.847222</td>\n",
              "      <td>63.000000</td>\n",
              "      <td>15.80</td>\n",
              "      <td>18.2</td>\n",
              "      <td>13.4</td>\n",
              "      <td>22.00</td>\n",
              "    </tr>\n",
              "    <tr>\n",
              "      <th>2000-01-04</th>\n",
              "      <td>32.625000</td>\n",
              "      <td>34.979167</td>\n",
              "      <td>63.000000</td>\n",
              "      <td>12.55</td>\n",
              "      <td>14.7</td>\n",
              "      <td>10.4</td>\n",
              "      <td>43.00</td>\n",
              "    </tr>\n",
              "    <tr>\n",
              "      <th>2000-01-05</th>\n",
              "      <td>12.340278</td>\n",
              "      <td>12.895833</td>\n",
              "      <td>63.000000</td>\n",
              "      <td>8.60</td>\n",
              "      <td>12.7</td>\n",
              "      <td>4.5</td>\n",
              "      <td>54.40</td>\n",
              "    </tr>\n",
              "    <tr>\n",
              "      <th>...</th>\n",
              "      <td>...</td>\n",
              "      <td>...</td>\n",
              "      <td>...</td>\n",
              "      <td>...</td>\n",
              "      <td>...</td>\n",
              "      <td>...</td>\n",
              "      <td>...</td>\n",
              "    </tr>\n",
              "    <tr>\n",
              "      <th>2023-04-25</th>\n",
              "      <td>65.465278</td>\n",
              "      <td>295.361111</td>\n",
              "      <td>75.250000</td>\n",
              "      <td>17.55</td>\n",
              "      <td>21.6</td>\n",
              "      <td>13.5</td>\n",
              "      <td>0.00</td>\n",
              "    </tr>\n",
              "    <tr>\n",
              "      <th>2023-04-26</th>\n",
              "      <td>35.638889</td>\n",
              "      <td>338.250000</td>\n",
              "      <td>73.409722</td>\n",
              "      <td>17.45</td>\n",
              "      <td>22.0</td>\n",
              "      <td>12.9</td>\n",
              "      <td>0.00</td>\n",
              "    </tr>\n",
              "    <tr>\n",
              "      <th>2023-04-27</th>\n",
              "      <td>36.479167</td>\n",
              "      <td>333.694444</td>\n",
              "      <td>53.381944</td>\n",
              "      <td>19.00</td>\n",
              "      <td>25.2</td>\n",
              "      <td>12.8</td>\n",
              "      <td>0.00</td>\n",
              "    </tr>\n",
              "    <tr>\n",
              "      <th>2023-04-28</th>\n",
              "      <td>113.152778</td>\n",
              "      <td>243.888889</td>\n",
              "      <td>65.597222</td>\n",
              "      <td>18.05</td>\n",
              "      <td>20.0</td>\n",
              "      <td>16.1</td>\n",
              "      <td>4.00</td>\n",
              "    </tr>\n",
              "    <tr>\n",
              "      <th>2023-04-29</th>\n",
              "      <td>101.937500</td>\n",
              "      <td>180.770833</td>\n",
              "      <td>69.569444</td>\n",
              "      <td>15.50</td>\n",
              "      <td>18.7</td>\n",
              "      <td>12.3</td>\n",
              "      <td>2.75</td>\n",
              "    </tr>\n",
              "  </tbody>\n",
              "</table>\n",
              "<p>8520 rows × 7 columns</p>\n",
              "</div>\n",
              "      <button class=\"colab-df-convert\" onclick=\"convertToInteractive('df-461ef117-3090-48c8-b373-50eb24a48a14')\"\n",
              "              title=\"Convert this dataframe to an interactive table.\"\n",
              "              style=\"display:none;\">\n",
              "        \n",
              "  <svg xmlns=\"http://www.w3.org/2000/svg\" height=\"24px\"viewBox=\"0 0 24 24\"\n",
              "       width=\"24px\">\n",
              "    <path d=\"M0 0h24v24H0V0z\" fill=\"none\"/>\n",
              "    <path d=\"M18.56 5.44l.94 2.06.94-2.06 2.06-.94-2.06-.94-.94-2.06-.94 2.06-2.06.94zm-11 1L8.5 8.5l.94-2.06 2.06-.94-2.06-.94L8.5 2.5l-.94 2.06-2.06.94zm10 10l.94 2.06.94-2.06 2.06-.94-2.06-.94-.94-2.06-.94 2.06-2.06.94z\"/><path d=\"M17.41 7.96l-1.37-1.37c-.4-.4-.92-.59-1.43-.59-.52 0-1.04.2-1.43.59L10.3 9.45l-7.72 7.72c-.78.78-.78 2.05 0 2.83L4 21.41c.39.39.9.59 1.41.59.51 0 1.02-.2 1.41-.59l7.78-7.78 2.81-2.81c.8-.78.8-2.07 0-2.86zM5.41 20L4 18.59l7.72-7.72 1.47 1.35L5.41 20z\"/>\n",
              "  </svg>\n",
              "      </button>\n",
              "      \n",
              "  <style>\n",
              "    .colab-df-container {\n",
              "      display:flex;\n",
              "      flex-wrap:wrap;\n",
              "      gap: 12px;\n",
              "    }\n",
              "\n",
              "    .colab-df-convert {\n",
              "      background-color: #E8F0FE;\n",
              "      border: none;\n",
              "      border-radius: 50%;\n",
              "      cursor: pointer;\n",
              "      display: none;\n",
              "      fill: #1967D2;\n",
              "      height: 32px;\n",
              "      padding: 0 0 0 0;\n",
              "      width: 32px;\n",
              "    }\n",
              "\n",
              "    .colab-df-convert:hover {\n",
              "      background-color: #E2EBFA;\n",
              "      box-shadow: 0px 1px 2px rgba(60, 64, 67, 0.3), 0px 1px 3px 1px rgba(60, 64, 67, 0.15);\n",
              "      fill: #174EA6;\n",
              "    }\n",
              "\n",
              "    [theme=dark] .colab-df-convert {\n",
              "      background-color: #3B4455;\n",
              "      fill: #D2E3FC;\n",
              "    }\n",
              "\n",
              "    [theme=dark] .colab-df-convert:hover {\n",
              "      background-color: #434B5C;\n",
              "      box-shadow: 0px 1px 3px 1px rgba(0, 0, 0, 0.15);\n",
              "      filter: drop-shadow(0px 1px 2px rgba(0, 0, 0, 0.3));\n",
              "      fill: #FFFFFF;\n",
              "    }\n",
              "  </style>\n",
              "\n",
              "      <script>\n",
              "        const buttonEl =\n",
              "          document.querySelector('#df-461ef117-3090-48c8-b373-50eb24a48a14 button.colab-df-convert');\n",
              "        buttonEl.style.display =\n",
              "          google.colab.kernel.accessAllowed ? 'block' : 'none';\n",
              "\n",
              "        async function convertToInteractive(key) {\n",
              "          const element = document.querySelector('#df-461ef117-3090-48c8-b373-50eb24a48a14');\n",
              "          const dataTable =\n",
              "            await google.colab.kernel.invokeFunction('convertToInteractive',\n",
              "                                                     [key], {});\n",
              "          if (!dataTable) return;\n",
              "\n",
              "          const docLinkHtml = 'Like what you see? Visit the ' +\n",
              "            '<a target=\"_blank\" href=https://colab.research.google.com/notebooks/data_table.ipynb>data table notebook</a>'\n",
              "            + ' to learn more about interactive tables.';\n",
              "          element.innerHTML = '';\n",
              "          dataTable['output_type'] = 'display_data';\n",
              "          await google.colab.output.renderOutput(dataTable, element);\n",
              "          const docLink = document.createElement('div');\n",
              "          docLink.innerHTML = docLinkHtml;\n",
              "          element.appendChild(docLink);\n",
              "        }\n",
              "      </script>\n",
              "    </div>\n",
              "  </div>\n",
              "  "
            ]
          },
          "metadata": {},
          "execution_count": 43
        }
      ],
      "source": [
        "data1"
      ]
    },
    {
      "cell_type": "code",
      "execution_count": null,
      "metadata": {
        "colab": {
          "base_uri": "https://localhost:8080/"
        },
        "id": "H58xgu7IFzbk",
        "outputId": "6bb2e81d-bfdc-4a95-d057-d174b91d2eed"
      },
      "outputs": [
        {
          "output_type": "execute_result",
          "data": {
            "text/plain": [
              "(8520, 7)"
            ]
          },
          "metadata": {},
          "execution_count": 44
        }
      ],
      "source": [
        "data1.shape"
      ]
    },
    {
      "cell_type": "code",
      "execution_count": null,
      "metadata": {
        "id": "WzwMjvePZTy-"
      },
      "outputs": [],
      "source": [
        "data1.index = pd.to_datetime(data1.index)\n",
        "data1['day'] = data1.index.day\n",
        "data1['month'] = data1.index.month\n",
        "data1['year'] = data1.index.year"
      ]
    },
    {
      "cell_type": "code",
      "execution_count": null,
      "metadata": {
        "colab": {
          "base_uri": "https://localhost:8080/",
          "height": 707
        },
        "id": "sOaF5HpYZbFi",
        "outputId": "70a40cbe-6766-41ca-cb53-bf29d6089857"
      },
      "outputs": [
        {
          "output_type": "execute_result",
          "data": {
            "text/plain": [
              "            Diffused radiation (W/m^2)  Global radiation (W/m^2)  \\\n",
              "Date                                                               \n",
              "2000-01-01                   26.437500                116.576389   \n",
              "2000-01-02                   58.555556                 79.972222   \n",
              "2000-01-03                   44.145833                 52.847222   \n",
              "2000-01-04                   32.625000                 34.979167   \n",
              "2000-01-05                   12.340278                 12.895833   \n",
              "...                                ...                       ...   \n",
              "2023-04-25                   65.465278                295.361111   \n",
              "2023-04-26                   35.638889                338.250000   \n",
              "2023-04-27                   36.479167                333.694444   \n",
              "2023-04-28                  113.152778                243.888889   \n",
              "2023-04-29                  101.937500                180.770833   \n",
              "\n",
              "            Relative humidity (%)  Temperature (°C)  Maximum temperature (°C)  \\\n",
              "Date                                                                            \n",
              "2000-01-01              63.000000             19.15                      22.8   \n",
              "2000-01-02              63.000000             16.40                      19.8   \n",
              "2000-01-03              63.000000             15.80                      18.2   \n",
              "2000-01-04              63.000000             12.55                      14.7   \n",
              "2000-01-05              63.000000              8.60                      12.7   \n",
              "...                           ...               ...                       ...   \n",
              "2023-04-25              75.250000             17.55                      21.6   \n",
              "2023-04-26              73.409722             17.45                      22.0   \n",
              "2023-04-27              53.381944             19.00                      25.2   \n",
              "2023-04-28              65.597222             18.05                      20.0   \n",
              "2023-04-29              69.569444             15.50                      18.7   \n",
              "\n",
              "            Minimum temperature (°C)  Rainfall (mm)  day  month  year  \n",
              "Date                                                                   \n",
              "2000-01-01                      15.5           0.00    1      1  2000  \n",
              "2000-01-02                      13.0           0.00    2      1  2000  \n",
              "2000-01-03                      13.4          22.00    3      1  2000  \n",
              "2000-01-04                      10.4          43.00    4      1  2000  \n",
              "2000-01-05                       4.5          54.40    5      1  2000  \n",
              "...                              ...            ...  ...    ...   ...  \n",
              "2023-04-25                      13.5           0.00   25      4  2023  \n",
              "2023-04-26                      12.9           0.00   26      4  2023  \n",
              "2023-04-27                      12.8           0.00   27      4  2023  \n",
              "2023-04-28                      16.1           4.00   28      4  2023  \n",
              "2023-04-29                      12.3           2.75   29      4  2023  \n",
              "\n",
              "[8520 rows x 10 columns]"
            ],
            "text/html": [
              "\n",
              "  <div id=\"df-ff97edb3-8920-465f-b6cc-ce94efceca8f\">\n",
              "    <div class=\"colab-df-container\">\n",
              "      <div>\n",
              "<style scoped>\n",
              "    .dataframe tbody tr th:only-of-type {\n",
              "        vertical-align: middle;\n",
              "    }\n",
              "\n",
              "    .dataframe tbody tr th {\n",
              "        vertical-align: top;\n",
              "    }\n",
              "\n",
              "    .dataframe thead th {\n",
              "        text-align: right;\n",
              "    }\n",
              "</style>\n",
              "<table border=\"1\" class=\"dataframe\">\n",
              "  <thead>\n",
              "    <tr style=\"text-align: right;\">\n",
              "      <th></th>\n",
              "      <th>Diffused radiation (W/m^2)</th>\n",
              "      <th>Global radiation (W/m^2)</th>\n",
              "      <th>Relative humidity (%)</th>\n",
              "      <th>Temperature (°C)</th>\n",
              "      <th>Maximum temperature (°C)</th>\n",
              "      <th>Minimum temperature (°C)</th>\n",
              "      <th>Rainfall (mm)</th>\n",
              "      <th>day</th>\n",
              "      <th>month</th>\n",
              "      <th>year</th>\n",
              "    </tr>\n",
              "    <tr>\n",
              "      <th>Date</th>\n",
              "      <th></th>\n",
              "      <th></th>\n",
              "      <th></th>\n",
              "      <th></th>\n",
              "      <th></th>\n",
              "      <th></th>\n",
              "      <th></th>\n",
              "      <th></th>\n",
              "      <th></th>\n",
              "      <th></th>\n",
              "    </tr>\n",
              "  </thead>\n",
              "  <tbody>\n",
              "    <tr>\n",
              "      <th>2000-01-01</th>\n",
              "      <td>26.437500</td>\n",
              "      <td>116.576389</td>\n",
              "      <td>63.000000</td>\n",
              "      <td>19.15</td>\n",
              "      <td>22.8</td>\n",
              "      <td>15.5</td>\n",
              "      <td>0.00</td>\n",
              "      <td>1</td>\n",
              "      <td>1</td>\n",
              "      <td>2000</td>\n",
              "    </tr>\n",
              "    <tr>\n",
              "      <th>2000-01-02</th>\n",
              "      <td>58.555556</td>\n",
              "      <td>79.972222</td>\n",
              "      <td>63.000000</td>\n",
              "      <td>16.40</td>\n",
              "      <td>19.8</td>\n",
              "      <td>13.0</td>\n",
              "      <td>0.00</td>\n",
              "      <td>2</td>\n",
              "      <td>1</td>\n",
              "      <td>2000</td>\n",
              "    </tr>\n",
              "    <tr>\n",
              "      <th>2000-01-03</th>\n",
              "      <td>44.145833</td>\n",
              "      <td>52.847222</td>\n",
              "      <td>63.000000</td>\n",
              "      <td>15.80</td>\n",
              "      <td>18.2</td>\n",
              "      <td>13.4</td>\n",
              "      <td>22.00</td>\n",
              "      <td>3</td>\n",
              "      <td>1</td>\n",
              "      <td>2000</td>\n",
              "    </tr>\n",
              "    <tr>\n",
              "      <th>2000-01-04</th>\n",
              "      <td>32.625000</td>\n",
              "      <td>34.979167</td>\n",
              "      <td>63.000000</td>\n",
              "      <td>12.55</td>\n",
              "      <td>14.7</td>\n",
              "      <td>10.4</td>\n",
              "      <td>43.00</td>\n",
              "      <td>4</td>\n",
              "      <td>1</td>\n",
              "      <td>2000</td>\n",
              "    </tr>\n",
              "    <tr>\n",
              "      <th>2000-01-05</th>\n",
              "      <td>12.340278</td>\n",
              "      <td>12.895833</td>\n",
              "      <td>63.000000</td>\n",
              "      <td>8.60</td>\n",
              "      <td>12.7</td>\n",
              "      <td>4.5</td>\n",
              "      <td>54.40</td>\n",
              "      <td>5</td>\n",
              "      <td>1</td>\n",
              "      <td>2000</td>\n",
              "    </tr>\n",
              "    <tr>\n",
              "      <th>...</th>\n",
              "      <td>...</td>\n",
              "      <td>...</td>\n",
              "      <td>...</td>\n",
              "      <td>...</td>\n",
              "      <td>...</td>\n",
              "      <td>...</td>\n",
              "      <td>...</td>\n",
              "      <td>...</td>\n",
              "      <td>...</td>\n",
              "      <td>...</td>\n",
              "    </tr>\n",
              "    <tr>\n",
              "      <th>2023-04-25</th>\n",
              "      <td>65.465278</td>\n",
              "      <td>295.361111</td>\n",
              "      <td>75.250000</td>\n",
              "      <td>17.55</td>\n",
              "      <td>21.6</td>\n",
              "      <td>13.5</td>\n",
              "      <td>0.00</td>\n",
              "      <td>25</td>\n",
              "      <td>4</td>\n",
              "      <td>2023</td>\n",
              "    </tr>\n",
              "    <tr>\n",
              "      <th>2023-04-26</th>\n",
              "      <td>35.638889</td>\n",
              "      <td>338.250000</td>\n",
              "      <td>73.409722</td>\n",
              "      <td>17.45</td>\n",
              "      <td>22.0</td>\n",
              "      <td>12.9</td>\n",
              "      <td>0.00</td>\n",
              "      <td>26</td>\n",
              "      <td>4</td>\n",
              "      <td>2023</td>\n",
              "    </tr>\n",
              "    <tr>\n",
              "      <th>2023-04-27</th>\n",
              "      <td>36.479167</td>\n",
              "      <td>333.694444</td>\n",
              "      <td>53.381944</td>\n",
              "      <td>19.00</td>\n",
              "      <td>25.2</td>\n",
              "      <td>12.8</td>\n",
              "      <td>0.00</td>\n",
              "      <td>27</td>\n",
              "      <td>4</td>\n",
              "      <td>2023</td>\n",
              "    </tr>\n",
              "    <tr>\n",
              "      <th>2023-04-28</th>\n",
              "      <td>113.152778</td>\n",
              "      <td>243.888889</td>\n",
              "      <td>65.597222</td>\n",
              "      <td>18.05</td>\n",
              "      <td>20.0</td>\n",
              "      <td>16.1</td>\n",
              "      <td>4.00</td>\n",
              "      <td>28</td>\n",
              "      <td>4</td>\n",
              "      <td>2023</td>\n",
              "    </tr>\n",
              "    <tr>\n",
              "      <th>2023-04-29</th>\n",
              "      <td>101.937500</td>\n",
              "      <td>180.770833</td>\n",
              "      <td>69.569444</td>\n",
              "      <td>15.50</td>\n",
              "      <td>18.7</td>\n",
              "      <td>12.3</td>\n",
              "      <td>2.75</td>\n",
              "      <td>29</td>\n",
              "      <td>4</td>\n",
              "      <td>2023</td>\n",
              "    </tr>\n",
              "  </tbody>\n",
              "</table>\n",
              "<p>8520 rows × 10 columns</p>\n",
              "</div>\n",
              "      <button class=\"colab-df-convert\" onclick=\"convertToInteractive('df-ff97edb3-8920-465f-b6cc-ce94efceca8f')\"\n",
              "              title=\"Convert this dataframe to an interactive table.\"\n",
              "              style=\"display:none;\">\n",
              "        \n",
              "  <svg xmlns=\"http://www.w3.org/2000/svg\" height=\"24px\"viewBox=\"0 0 24 24\"\n",
              "       width=\"24px\">\n",
              "    <path d=\"M0 0h24v24H0V0z\" fill=\"none\"/>\n",
              "    <path d=\"M18.56 5.44l.94 2.06.94-2.06 2.06-.94-2.06-.94-.94-2.06-.94 2.06-2.06.94zm-11 1L8.5 8.5l.94-2.06 2.06-.94-2.06-.94L8.5 2.5l-.94 2.06-2.06.94zm10 10l.94 2.06.94-2.06 2.06-.94-2.06-.94-.94-2.06-.94 2.06-2.06.94z\"/><path d=\"M17.41 7.96l-1.37-1.37c-.4-.4-.92-.59-1.43-.59-.52 0-1.04.2-1.43.59L10.3 9.45l-7.72 7.72c-.78.78-.78 2.05 0 2.83L4 21.41c.39.39.9.59 1.41.59.51 0 1.02-.2 1.41-.59l7.78-7.78 2.81-2.81c.8-.78.8-2.07 0-2.86zM5.41 20L4 18.59l7.72-7.72 1.47 1.35L5.41 20z\"/>\n",
              "  </svg>\n",
              "      </button>\n",
              "      \n",
              "  <style>\n",
              "    .colab-df-container {\n",
              "      display:flex;\n",
              "      flex-wrap:wrap;\n",
              "      gap: 12px;\n",
              "    }\n",
              "\n",
              "    .colab-df-convert {\n",
              "      background-color: #E8F0FE;\n",
              "      border: none;\n",
              "      border-radius: 50%;\n",
              "      cursor: pointer;\n",
              "      display: none;\n",
              "      fill: #1967D2;\n",
              "      height: 32px;\n",
              "      padding: 0 0 0 0;\n",
              "      width: 32px;\n",
              "    }\n",
              "\n",
              "    .colab-df-convert:hover {\n",
              "      background-color: #E2EBFA;\n",
              "      box-shadow: 0px 1px 2px rgba(60, 64, 67, 0.3), 0px 1px 3px 1px rgba(60, 64, 67, 0.15);\n",
              "      fill: #174EA6;\n",
              "    }\n",
              "\n",
              "    [theme=dark] .colab-df-convert {\n",
              "      background-color: #3B4455;\n",
              "      fill: #D2E3FC;\n",
              "    }\n",
              "\n",
              "    [theme=dark] .colab-df-convert:hover {\n",
              "      background-color: #434B5C;\n",
              "      box-shadow: 0px 1px 3px 1px rgba(0, 0, 0, 0.15);\n",
              "      filter: drop-shadow(0px 1px 2px rgba(0, 0, 0, 0.3));\n",
              "      fill: #FFFFFF;\n",
              "    }\n",
              "  </style>\n",
              "\n",
              "      <script>\n",
              "        const buttonEl =\n",
              "          document.querySelector('#df-ff97edb3-8920-465f-b6cc-ce94efceca8f button.colab-df-convert');\n",
              "        buttonEl.style.display =\n",
              "          google.colab.kernel.accessAllowed ? 'block' : 'none';\n",
              "\n",
              "        async function convertToInteractive(key) {\n",
              "          const element = document.querySelector('#df-ff97edb3-8920-465f-b6cc-ce94efceca8f');\n",
              "          const dataTable =\n",
              "            await google.colab.kernel.invokeFunction('convertToInteractive',\n",
              "                                                     [key], {});\n",
              "          if (!dataTable) return;\n",
              "\n",
              "          const docLinkHtml = 'Like what you see? Visit the ' +\n",
              "            '<a target=\"_blank\" href=https://colab.research.google.com/notebooks/data_table.ipynb>data table notebook</a>'\n",
              "            + ' to learn more about interactive tables.';\n",
              "          element.innerHTML = '';\n",
              "          dataTable['output_type'] = 'display_data';\n",
              "          await google.colab.output.renderOutput(dataTable, element);\n",
              "          const docLink = document.createElement('div');\n",
              "          docLink.innerHTML = docLinkHtml;\n",
              "          element.appendChild(docLink);\n",
              "        }\n",
              "      </script>\n",
              "    </div>\n",
              "  </div>\n",
              "  "
            ]
          },
          "metadata": {},
          "execution_count": 46
        }
      ],
      "source": [
        "data1"
      ]
    },
    {
      "cell_type": "code",
      "execution_count": null,
      "metadata": {
        "colab": {
          "base_uri": "https://localhost:8080/",
          "height": 504
        },
        "id": "GN7er3TDZggW",
        "outputId": "dc9c0294-3692-448b-967a-ec30078c533c"
      },
      "outputs": [
        {
          "output_type": "execute_result",
          "data": {
            "text/plain": [
              "<Axes: title={'center': 'Diffused radiation (W/m^2)'}, xlabel='Date'>"
            ]
          },
          "metadata": {},
          "execution_count": 47
        },
        {
          "output_type": "display_data",
          "data": {
            "text/plain": [
              "<Figure size 1000x500 with 1 Axes>"
            ],
            "image/png": "[encoded data removed]"
          },
          "metadata": {}
        }
      ],
      "source": [
        "data1[\"Diffused radiation (W/m^2)\"].plot(title=\"Diffused radiation (W/m^2)\", figsize=(10,5))"
      ]
    },
    {
      "cell_type": "code",
      "execution_count": null,
      "metadata": {
        "colab": {
          "base_uri": "https://localhost:8080/",
          "height": 504
        },
        "id": "TeaTZ3_HZ3id",
        "outputId": "2b74a248-2038-4d09-bda3-9ebe6d95ea4d"
      },
      "outputs": [
        {
          "output_type": "execute_result",
          "data": {
            "text/plain": [
              "<Axes: title={'center': 'Relative humidity (%)'}, xlabel='Date'>"
            ]
          },
          "metadata": {},
          "execution_count": 48
        },
        {
          "output_type": "display_data",
          "data": {
            "text/plain": [
              "<Figure size 1000x500 with 1 Axes>"
            ],
            "image/png": "[encoded data removed]"
          },
          "metadata": {}
        }
      ],
      "source": [
        "data1[\"Relative humidity (%)\"].plot(title=\"Relative humidity (%)\", figsize=(10,5))"
      ]
    },
    {
      "cell_type": "code",
      "execution_count": null,
      "metadata": {
        "colab": {
          "base_uri": "https://localhost:8080/",
          "height": 504
        },
        "id": "gRWDe8FnZ7pN",
        "outputId": "9acd074d-66c1-49f2-91ca-867a3041e8dc"
      },
      "outputs": [
        {
          "output_type": "execute_result",
          "data": {
            "text/plain": [
              "<Axes: title={'center': 'Temperature (°C)'}, xlabel='Date'>"
            ]
          },
          "metadata": {},
          "execution_count": 49
        },
        {
          "output_type": "display_data",
          "data": {
            "text/plain": [
              "<Figure size 1000x500 with 1 Axes>"
            ],
            "image/png": "[encoded data removed]"
          },
          "metadata": {}
        }
      ],
      "source": [
        "data1[\"Temperature (°C)\"].plot(title=\"Temperature (°C)\", figsize=(10,5))"
      ]
    },
    {
      "cell_type": "code",
      "execution_count": null,
      "metadata": {
        "colab": {
          "base_uri": "https://localhost:8080/",
          "height": 504
        },
        "id": "cT7bhf8_aALg",
        "outputId": "96689b3f-e619-48ae-f2de-dc6fc8df1cfc"
      },
      "outputs": [
        {
          "output_type": "execute_result",
          "data": {
            "text/plain": [
              "<Axes: title={'center': 'Maximum temperature (°C)'}, xlabel='Date'>"
            ]
          },
          "metadata": {},
          "execution_count": 50
        },
        {
          "output_type": "display_data",
          "data": {
            "text/plain": [
              "<Figure size 1000x500 with 1 Axes>"
            ],
            "image/png": "[encoded data removed]"
          },
          "metadata": {}
        }
      ],
      "source": [
        "data1[\"Maximum temperature (°C)\"].plot(title=\"Maximum temperature (°C)\", figsize=(10,5))"
      ]
    },
    {
      "cell_type": "code",
      "execution_count": null,
      "metadata": {
        "colab": {
          "base_uri": "https://localhost:8080/",
          "height": 504
        },
        "id": "wmmt5uV-aIW8",
        "outputId": "f9159545-2940-4bb2-9dd0-a941622fcc43"
      },
      "outputs": [
        {
          "output_type": "execute_result",
          "data": {
            "text/plain": [
              "<Axes: title={'center': 'Rainfall (mm)'}, xlabel='Date'>"
            ]
          },
          "metadata": {},
          "execution_count": 51
        },
        {
          "output_type": "display_data",
          "data": {
            "text/plain": [
              "<Figure size 1000x500 with 1 Axes>"
            ],
            "image/png": "[encoded data removed]"
          },
          "metadata": {}
        }
      ],
      "source": [
        "data1[\"Rainfall (mm)\"].plot(title=\"Rainfall (mm)\", figsize=(10,5))"
      ]
    },
    {
      "cell_type": "code",
      "execution_count": null,
      "metadata": {
        "colab": {
          "base_uri": "https://localhost:8080/"
        },
        "id": "XI9opYEsZs8b",
        "outputId": "002a907c-3c89-4e87-f7f2-a7ebb13341a2"
      },
      "outputs": [
        {
          "output_type": "stream",
          "name": "stdout",
          "text": [
            "Diffused radiation (W/m^2)\n",
            "Global radiation (W/m^2)\n",
            "Relative humidity (%)\n",
            "Temperature (°C)\n",
            "Maximum temperature (°C)\n",
            "Minimum temperature (°C)\n",
            "Rainfall (mm)\n",
            "day\n",
            "month\n",
            "year\n"
          ]
        }
      ],
      "source": [
        "for name in data1.columns.to_list():\n",
        "  print(name)"
      ]
    },
    {
      "cell_type": "code",
      "execution_count": null,
      "metadata": {
        "id": "fvusKb3eaUvC"
      },
      "outputs": [],
      "source": [
        "df = data1.to_numpy()"
      ]
    },
    {
      "cell_type": "code",
      "execution_count": null,
      "metadata": {
        "colab": {
          "base_uri": "https://localhost:8080/"
        },
        "id": "UV8CQQEeag0d",
        "outputId": "9ee1dd1b-68d8-4e56-f983-c7366bfd6ccd"
      },
      "outputs": [
        {
          "output_type": "execute_result",
          "data": {
            "text/plain": [
              "(8520, 10)"
            ]
          },
          "metadata": {},
          "execution_count": 54
        }
      ],
      "source": [
        "df.shape"
      ]
    },
    {
      "cell_type": "code",
      "execution_count": null,
      "metadata": {
        "id": "WAQKVKKOai9K"
      },
      "outputs": [],
      "source": [
        "from sklearn.preprocessing import MinMaxScaler\n",
        "\n",
        "mms = MinMaxScaler()\n",
        "df_scaled = mms.fit_transform(df)"
      ]
    },
    {
      "cell_type": "code",
      "execution_count": null,
      "metadata": {
        "colab": {
          "base_uri": "https://localhost:8080/"
        },
        "id": "hHVEBiVHq_eh",
        "outputId": "863a8bc0-0ced-4aa2-84ea-971d866d99a6"
      },
      "outputs": [
        {
          "output_type": "execute_result",
          "data": {
            "text/plain": [
              "array([1.915e+01, 2.280e+01, 1.550e+01, 0.000e+00, 1.000e+00, 1.000e+00,\n",
              "       2.000e+03])"
            ]
          },
          "metadata": {},
          "execution_count": 71
        }
      ],
      "source": [
        "df[0][3:]"
      ]
    },
    {
      "cell_type": "code",
      "execution_count": null,
      "metadata": {
        "colab": {
          "base_uri": "https://localhost:8080/"
        },
        "id": "I90fV_OgalgO",
        "outputId": "a8f47ffb-4508-4c29-b859-de9ce4a4c0b8"
      },
      "outputs": [
        {
          "output_type": "execute_result",
          "data": {
            "text/plain": [
              "array([0.13221117, 0.18445631, 0.59677542, 0.48067227, 0.46036585,\n",
              "       0.50537634, 0.        , 0.        , 0.        , 0.        ])"
            ]
          },
          "metadata": {},
          "execution_count": 57
        }
      ],
      "source": [
        "df_scaled[0]"
      ]
    },
    {
      "cell_type": "code",
      "execution_count": null,
      "metadata": {
        "id": "T92DB6ISanuq"
      },
      "outputs": [],
      "source": [
        "import seaborn as sns\n",
        "import matplotlib.pyplot as plt\n",
        "f,ax = plt.subplots(figsize=(18, 18))\n",
        "sns.heatmap(data1.corr(), annot=True, linewidths=.5, fmt= '.1f',ax=ax)\n",
        "plt.show()"
      ]
    },
    {
      "cell_type": "code",
      "execution_count": null,
      "metadata": {
        "id": "AGAgq_J5ilnM"
      },
      "outputs": [],
      "source": [
        "train_size = int(len(df_scaled) * 0.9)\n",
        "test_size = len(df_scaled) - train_size\n",
        "train, test = df_scaled[:train_size], df_scaled[train_size:]"
      ]
    },
    {
      "cell_type": "code",
      "source": [
        "lookback = 1\n",
        "i = 0\n",
        "df[i:i+lookback]"
      ],
      "metadata": {
        "colab": {
          "base_uri": "https://localhost:8080/"
        },
        "id": "WAluNGsVeu5B",
        "outputId": "5ccdd199-4334-457b-980c-ef991c91aede"
      },
      "execution_count": null,
      "outputs": [
        {
          "output_type": "execute_result",
          "data": {
            "text/plain": [
              "array([[2.64375000e+01, 1.16576389e+02, 6.30000000e+01, 1.91500000e+01,\n",
              "        2.28000000e+01, 1.55000000e+01, 0.00000000e+00, 1.00000000e+00,\n",
              "        1.00000000e+00, 2.00000000e+03]])"
            ]
          },
          "metadata": {},
          "execution_count": 66
        }
      ]
    },
    {
      "cell_type": "code",
      "source": [
        "import torch\n",
        "def create_dataset(data,lookback = 1):\n",
        "  X = []\n",
        "  y = []\n",
        "  for i in range(len(data)-lookback):\n",
        "    feature = data[0:0+lookback,lookback:]\n",
        "    #target = data[i+1:i+lookback+1]\n",
        "    target = data[i+1:i+lookback+1,:7]\n",
        "    X.append(feature)\n",
        "    y.append(target)\n",
        "  return np.array(X), np.array(y)"
      ],
      "metadata": {
        "id": "iB_MyiJ5eO6z"
      },
      "execution_count": null,
      "outputs": []
    },
    {
      "cell_type": "code",
      "source": [
        "df[:4]"
      ],
      "metadata": {
        "colab": {
          "base_uri": "https://localhost:8080/"
        },
        "id": "3N00NBoukqdT",
        "outputId": "44dfbfe4-0f44-4c05-d478-b1873ff586d5"
      },
      "execution_count": null,
      "outputs": [
        {
          "output_type": "execute_result",
          "data": {
            "text/plain": [
              "array([[2.64375000e+01, 1.16576389e+02, 6.30000000e+01, 1.91500000e+01,\n",
              "        2.28000000e+01, 1.55000000e+01, 0.00000000e+00, 1.00000000e+00,\n",
              "        1.00000000e+00, 2.00000000e+03],\n",
              "       [5.85555556e+01, 7.99722222e+01, 6.30000000e+01, 1.64000000e+01,\n",
              "        1.98000000e+01, 1.30000000e+01, 0.00000000e+00, 2.00000000e+00,\n",
              "        1.00000000e+00, 2.00000000e+03],\n",
              "       [4.41458333e+01, 5.28472222e+01, 6.30000000e+01, 1.58000000e+01,\n",
              "        1.82000000e+01, 1.34000000e+01, 2.20000000e+01, 3.00000000e+00,\n",
              "        1.00000000e+00, 2.00000000e+03],\n",
              "       [3.26250000e+01, 3.49791667e+01, 6.30000000e+01, 1.25500000e+01,\n",
              "        1.47000000e+01, 1.04000000e+01, 4.30000000e+01, 4.00000000e+00,\n",
              "        1.00000000e+00, 2.00000000e+03]])"
            ]
          },
          "metadata": {},
          "execution_count": 126
        }
      ]
    },
    {
      "cell_type": "code",
      "source": [
        "df[0:0+3,3:]"
      ],
      "metadata": {
        "colab": {
          "base_uri": "https://localhost:8080/"
        },
        "id": "scKS1DijkaUr",
        "outputId": "ffd67bdf-0a64-4727-ab2b-002b86890bac"
      },
      "execution_count": null,
      "outputs": [
        {
          "output_type": "execute_result",
          "data": {
            "text/plain": [
              "array([[1.915e+01, 2.280e+01, 1.550e+01, 0.000e+00, 1.000e+00, 1.000e+00,\n",
              "        2.000e+03],\n",
              "       [1.640e+01, 1.980e+01, 1.300e+01, 0.000e+00, 2.000e+00, 1.000e+00,\n",
              "        2.000e+03],\n",
              "       [1.580e+01, 1.820e+01, 1.340e+01, 2.200e+01, 3.000e+00, 1.000e+00,\n",
              "        2.000e+03]])"
            ]
          },
          "metadata": {},
          "execution_count": 127
        }
      ]
    },
    {
      "cell_type": "code",
      "source": [
        "df[0+1:0+3+1]"
      ],
      "metadata": {
        "colab": {
          "base_uri": "https://localhost:8080/"
        },
        "id": "QX7P6li2juVx",
        "outputId": "b4557683-8270-4c65-f6fa-0b6b6b7ee314"
      },
      "execution_count": null,
      "outputs": [
        {
          "output_type": "execute_result",
          "data": {
            "text/plain": [
              "array([[5.85555556e+01, 7.99722222e+01, 6.30000000e+01, 1.64000000e+01,\n",
              "        1.98000000e+01, 1.30000000e+01, 0.00000000e+00, 2.00000000e+00,\n",
              "        1.00000000e+00, 2.00000000e+03],\n",
              "       [4.41458333e+01, 5.28472222e+01, 6.30000000e+01, 1.58000000e+01,\n",
              "        1.82000000e+01, 1.34000000e+01, 2.20000000e+01, 3.00000000e+00,\n",
              "        1.00000000e+00, 2.00000000e+03],\n",
              "       [3.26250000e+01, 3.49791667e+01, 6.30000000e+01, 1.25500000e+01,\n",
              "        1.47000000e+01, 1.04000000e+01, 4.30000000e+01, 4.00000000e+00,\n",
              "        1.00000000e+00, 2.00000000e+03]])"
            ]
          },
          "metadata": {},
          "execution_count": 158
        }
      ]
    },
    {
      "cell_type": "code",
      "source": [
        "df[0:0+3]"
      ],
      "metadata": {
        "colab": {
          "base_uri": "https://localhost:8080/"
        },
        "id": "9bY0SNytj8r_",
        "outputId": "831efc5c-e6e1-496e-eb94-c8193d3f3e1e"
      },
      "execution_count": null,
      "outputs": [
        {
          "output_type": "execute_result",
          "data": {
            "text/plain": [
              "array([[2.64375000e+01, 1.16576389e+02, 6.30000000e+01, 1.91500000e+01,\n",
              "        2.28000000e+01, 1.55000000e+01, 0.00000000e+00, 1.00000000e+00,\n",
              "        1.00000000e+00, 2.00000000e+03],\n",
              "       [5.85555556e+01, 7.99722222e+01, 6.30000000e+01, 1.64000000e+01,\n",
              "        1.98000000e+01, 1.30000000e+01, 0.00000000e+00, 2.00000000e+00,\n",
              "        1.00000000e+00, 2.00000000e+03],\n",
              "       [4.41458333e+01, 5.28472222e+01, 6.30000000e+01, 1.58000000e+01,\n",
              "        1.82000000e+01, 1.34000000e+01, 2.20000000e+01, 3.00000000e+00,\n",
              "        1.00000000e+00, 2.00000000e+03]])"
            ]
          },
          "metadata": {},
          "execution_count": 121
        }
      ]
    },
    {
      "cell_type": "code",
      "source": [
        "import numpy as np"
      ],
      "metadata": {
        "id": "P3AlAjsmggXh"
      },
      "execution_count": null,
      "outputs": []
    },
    {
      "cell_type": "code",
      "execution_count": null,
      "metadata": {
        "colab": {
          "base_uri": "https://localhost:8080/"
        },
        "id": "yHCfeD9Oau70",
        "outputId": "e8893d2b-3c92-4c2a-8940-87de434c0aaa"
      },
      "outputs": [
        {
          "output_type": "stream",
          "name": "stdout",
          "text": [
            "(7665, 3, 7) (7665, 3, 7)\n",
            "(849, 3, 7) (849, 3, 7)\n"
          ]
        }
      ],
      "source": [
        "X_train, y_train = create_dataset(train, lookback=3)\n",
        "X_test, y_test = create_dataset(test, lookback=3)\n",
        "X_train,y_train = X_train.reshape((7665,3,7)),y_train.reshape((7665,3,7))\n",
        "X_test,y_test = X_test.reshape((849,3,7)),y_test.reshape((849,3,7))\n",
        "print(X_train.shape, y_train.shape)\n",
        "print(X_test.shape, y_test.shape)"
      ]
    },
    {
      "cell_type": "code",
      "source": [
        "y_train[0]"
      ],
      "metadata": {
        "colab": {
          "base_uri": "https://localhost:8080/"
        },
        "id": "-BzJzSxwgn4F",
        "outputId": "c3535773-7565-49e9-c37e-1654ed8287ad"
      },
      "execution_count": null,
      "outputs": [
        {
          "output_type": "execute_result",
          "data": {
            "text/plain": [
              "array([[0.25016577, 0.12653833, 0.59677542, 0.38823529, 0.36890244,\n",
              "        0.41577061, 0.        ],\n",
              "       [0.1972456 , 0.08361902, 0.59677542, 0.36806723, 0.32012195,\n",
              "        0.43010753, 0.21379981],\n",
              "       [0.15493497, 0.05534678, 0.59677542, 0.25882353, 0.21341463,\n",
              "        0.32258065, 0.41788144]])"
            ]
          },
          "metadata": {},
          "execution_count": 162
        }
      ]
    },
    {
      "cell_type": "code",
      "execution_count": null,
      "metadata": {
        "id": "NnC_munVjEzI"
      },
      "outputs": [],
      "source": [
        "from keras.models import Sequential\n",
        "from keras.layers import Dense\n",
        "from keras.layers import LSTM,Dropout,BatchNormalization\n",
        "from tensorflow.keras.callbacks import EarlyStopping, ReduceLROnPlateau\n",
        "from tensorflow.keras.optimizers import Adam\n",
        "from keras.regularizers import l2"
      ]
    },
    {
      "cell_type": "code",
      "execution_count": null,
      "metadata": {
        "id": "vj4uMCs4jFsn"
      },
      "outputs": [],
      "source": [
        "model = Sequential()\n",
        "model.add(LSTM(units=32, activation='tanh',return_sequences=True, input_shape=(3, 7)))\n",
        "model.add(Dropout(0.3))\n",
        "model.add(BatchNormalization())\n",
        "\n",
        "model.add(LSTM(units=64, activation='relu',return_sequences=True))\n",
        "model.add(Dropout(0.3))\n",
        "model.add(BatchNormalization())\n",
        "\n",
        "model.add(LSTM(units=128, activation='relu',return_sequences=True))\n",
        "model.add(Dropout(0.3))\n",
        "model.add(BatchNormalization())\n",
        "\n",
        "\n",
        "\n",
        "model.add(Dense(7,kernel_regularizer='l1'))\n",
        "\n",
        "model.compile(loss='mae', optimizer='adam')"
      ]
    },
    {
      "cell_type": "code",
      "execution_count": null,
      "metadata": {
        "colab": {
          "base_uri": "https://localhost:8080/"
        },
        "id": "TCGeyzHIj8Hz",
        "outputId": "473a434d-f443-4658-d7bb-cbaff74ae945"
      },
      "outputs": [
        {
          "output_type": "stream",
          "name": "stdout",
          "text": [
            "Model: \"sequential_7\"\n",
            "_________________________________________________________________\n",
            " Layer (type)                Output Shape              Param #   \n",
            "=================================================================\n",
            " lstm_21 (LSTM)              (None, 3, 32)             5120      \n",
            "                                                                 \n",
            " dropout_21 (Dropout)        (None, 3, 32)             0         \n",
            "                                                                 \n",
            " batch_normalization_21 (Bat  (None, 3, 32)            128       \n",
            " chNormalization)                                                \n",
            "                                                                 \n",
            " lstm_22 (LSTM)              (None, 3, 64)             24832     \n",
            "                                                                 \n",
            " dropout_22 (Dropout)        (None, 3, 64)             0         \n",
            "                                                                 \n",
            " batch_normalization_22 (Bat  (None, 3, 64)            256       \n",
            " chNormalization)                                                \n",
            "                                                                 \n",
            " lstm_23 (LSTM)              (None, 3, 128)            98816     \n",
            "                                                                 \n",
            " dropout_23 (Dropout)        (None, 3, 128)            0         \n",
            "                                                                 \n",
            " batch_normalization_23 (Bat  (None, 3, 128)           512       \n",
            " chNormalization)                                                \n",
            "                                                                 \n",
            " dense_9 (Dense)             (None, 3, 7)              903       \n",
            "                                                                 \n",
            "=================================================================\n",
            "Total params: 130,567\n",
            "Trainable params: 130,119\n",
            "Non-trainable params: 448\n",
            "_________________________________________________________________\n"
          ]
        }
      ],
      "source": [
        "model.summary()"
      ]
    },
    {
      "cell_type": "code",
      "execution_count": null,
      "metadata": {
        "colab": {
          "base_uri": "https://localhost:8080/"
        },
        "id": "4AdRzg0Bj-ok",
        "outputId": "48c226b3-0f47-47b8-9e57-d5b408b04ba3"
      },
      "outputs": [
        {
          "output_type": "stream",
          "name": "stdout",
          "text": [
            "Epoch 1/100\n",
            "108/108 [==============================] - 7s 20ms/step - loss: 1.1290 - val_loss: 0.5015\n",
            "Epoch 2/100\n",
            "108/108 [==============================] - 2s 18ms/step - loss: 0.4100 - val_loss: 0.2445\n",
            "Epoch 3/100\n",
            "108/108 [==============================] - 1s 13ms/step - loss: 0.2114 - val_loss: 0.1816\n",
            "Epoch 4/100\n",
            "108/108 [==============================] - 2s 14ms/step - loss: 0.1648 - val_loss: 0.1605\n",
            "Epoch 5/100\n",
            "108/108 [==============================] - 2s 14ms/step - loss: 0.1442 - val_loss: 0.1480\n",
            "Epoch 6/100\n",
            "108/108 [==============================] - 1s 14ms/step - loss: 0.1329 - val_loss: 0.1406\n",
            "Epoch 7/100\n",
            "108/108 [==============================] - 1s 13ms/step - loss: 0.1257 - val_loss: 0.1360\n",
            "Epoch 8/100\n",
            "108/108 [==============================] - 1s 13ms/step - loss: 0.1214 - val_loss: 0.1329\n",
            "Epoch 9/100\n",
            "108/108 [==============================] - 2s 18ms/step - loss: 0.1181 - val_loss: 0.1306\n",
            "Epoch 10/100\n",
            "108/108 [==============================] - 2s 15ms/step - loss: 0.1156 - val_loss: 0.1288\n",
            "Epoch 11/100\n",
            "108/108 [==============================] - 1s 14ms/step - loss: 0.1138 - val_loss: 0.1275\n",
            "Epoch 12/100\n",
            "108/108 [==============================] - 1s 14ms/step - loss: 0.1130 - val_loss: 0.1264\n",
            "Epoch 13/100\n",
            "108/108 [==============================] - 1s 14ms/step - loss: 0.1121 - val_loss: 0.1266\n",
            "Epoch 14/100\n",
            "108/108 [==============================] - 1s 14ms/step - loss: 0.1117 - val_loss: 0.1255\n",
            "Epoch 15/100\n",
            "108/108 [==============================] - 1s 14ms/step - loss: 0.1113 - val_loss: 0.1251\n",
            "Epoch 16/100\n",
            "108/108 [==============================] - 2s 15ms/step - loss: 0.1109 - val_loss: 0.1249\n",
            "Epoch 17/100\n",
            "108/108 [==============================] - 2s 19ms/step - loss: 0.1107 - val_loss: 0.1249\n",
            "Epoch 18/100\n",
            "108/108 [==============================] - 1s 14ms/step - loss: 0.1106 - val_loss: 0.1247\n",
            "Epoch 19/100\n",
            "108/108 [==============================] - 1s 13ms/step - loss: 0.1105 - val_loss: 0.1247\n",
            "Epoch 20/100\n",
            "108/108 [==============================] - 1s 13ms/step - loss: 0.1104 - val_loss: 0.1250\n",
            "Epoch 21/100\n",
            "108/108 [==============================] - 1s 14ms/step - loss: 0.1104 - val_loss: 0.1249\n",
            "Epoch 22/100\n",
            "108/108 [==============================] - 1s 14ms/step - loss: 0.1103 - val_loss: 0.1249\n",
            "Epoch 23/100\n",
            "108/108 [==============================] - 1s 13ms/step - loss: 0.1103 - val_loss: 0.1249\n",
            "Epoch 24/100\n",
            "108/108 [==============================] - 2s 17ms/step - loss: 0.1102 - val_loss: 0.1248\n",
            "Epoch 25/100\n",
            "108/108 [==============================] - 2s 16ms/step - loss: 0.1104 - val_loss: 0.1247\n",
            "Epoch 26/100\n",
            "108/108 [==============================] - 1s 14ms/step - loss: 0.1103 - val_loss: 0.1248\n",
            "Epoch 27/100\n",
            "108/108 [==============================] - 1s 13ms/step - loss: 0.1103 - val_loss: 0.1247\n",
            "Epoch 28/100\n",
            "108/108 [==============================] - 2s 19ms/step - loss: 0.1102 - val_loss: 0.1247\n",
            "Epoch 29/100\n",
            "108/108 [==============================] - 2s 15ms/step - loss: 0.1103 - val_loss: 0.1246\n",
            "Epoch 30/100\n",
            "108/108 [==============================] - 1s 13ms/step - loss: 0.1100 - val_loss: 0.1246\n",
            "Epoch 31/100\n",
            "108/108 [==============================] - 2s 16ms/step - loss: 0.1099 - val_loss: 0.1244\n",
            "Epoch 32/100\n",
            "108/108 [==============================] - 2s 17ms/step - loss: 0.1099 - val_loss: 0.1241\n",
            "Epoch 33/100\n",
            "108/108 [==============================] - 1s 13ms/step - loss: 0.1101 - val_loss: 0.1243\n",
            "Epoch 34/100\n",
            "108/108 [==============================] - 1s 13ms/step - loss: 0.1099 - val_loss: 0.1245\n",
            "Epoch 35/100\n",
            "108/108 [==============================] - 1s 14ms/step - loss: 0.1098 - val_loss: 0.1242\n",
            "Epoch 36/100\n",
            "108/108 [==============================] - 1s 13ms/step - loss: 0.1098 - val_loss: 0.1243\n",
            "Epoch 37/100\n",
            "108/108 [==============================] - 1s 14ms/step - loss: 0.1097 - val_loss: 0.1242\n",
            "Epoch 38/100\n",
            "108/108 [==============================] - 1s 13ms/step - loss: 0.1096 - val_loss: 0.1240\n",
            "Epoch 39/100\n",
            "108/108 [==============================] - 2s 18ms/step - loss: 0.1095 - val_loss: 0.1242\n",
            "Epoch 40/100\n",
            "108/108 [==============================] - 2s 15ms/step - loss: 0.1093 - val_loss: 0.1241\n",
            "Epoch 41/100\n",
            "108/108 [==============================] - 1s 14ms/step - loss: 0.1093 - val_loss: 0.1240\n",
            "Epoch 42/100\n",
            "108/108 [==============================] - 1s 13ms/step - loss: 0.1092 - val_loss: 0.1240\n",
            "Epoch 43/100\n",
            "108/108 [==============================] - 1s 13ms/step - loss: 0.1091 - val_loss: 0.1240\n",
            "Epoch 44/100\n",
            "108/108 [==============================] - 2s 14ms/step - loss: 0.1090 - val_loss: 0.1241\n",
            "Epoch 45/100\n",
            "108/108 [==============================] - 1s 14ms/step - loss: 0.1090 - val_loss: 0.1239\n",
            "Epoch 46/100\n",
            "108/108 [==============================] - 1s 13ms/step - loss: 0.1089 - val_loss: 0.1240\n",
            "Epoch 47/100\n",
            "108/108 [==============================] - 2s 20ms/step - loss: 0.1089 - val_loss: 0.1239\n",
            "Epoch 48/100\n",
            "108/108 [==============================] - 1s 14ms/step - loss: 0.1088 - val_loss: 0.1239\n",
            "Epoch 49/100\n",
            "108/108 [==============================] - 2s 14ms/step - loss: 0.1088 - val_loss: 0.1240\n",
            "Epoch 50/100\n",
            "108/108 [==============================] - 1s 14ms/step - loss: 0.1087 - val_loss: 0.1240\n",
            "Epoch 51/100\n",
            "108/108 [==============================] - 1s 14ms/step - loss: 0.1086 - val_loss: 0.1239\n",
            "Epoch 52/100\n",
            "108/108 [==============================] - 1s 14ms/step - loss: 0.1086 - val_loss: 0.1239\n",
            "Epoch 53/100\n",
            "108/108 [==============================] - 1s 14ms/step - loss: 0.1086 - val_loss: 0.1239\n",
            "Epoch 54/100\n",
            "108/108 [==============================] - 2s 17ms/step - loss: 0.1085 - val_loss: 0.1239\n",
            "Epoch 55/100\n",
            "108/108 [==============================] - 2s 16ms/step - loss: 0.1085 - val_loss: 0.1239\n",
            "Epoch 56/100\n",
            "108/108 [==============================] - 1s 13ms/step - loss: 0.1085 - val_loss: 0.1239\n",
            "Epoch 57/100\n",
            "108/108 [==============================] - 1s 13ms/step - loss: 0.1085 - val_loss: 0.1238\n",
            "Epoch 58/100\n",
            "108/108 [==============================] - 1s 14ms/step - loss: 0.1084 - val_loss: 0.1238\n",
            "Epoch 59/100\n",
            "108/108 [==============================] - 1s 13ms/step - loss: 0.1084 - val_loss: 0.1239\n",
            "Epoch 60/100\n",
            "108/108 [==============================] - 1s 13ms/step - loss: 0.1083 - val_loss: 0.1238\n",
            "Epoch 61/100\n",
            "108/108 [==============================] - 1s 13ms/step - loss: 0.1084 - val_loss: 0.1238\n",
            "Epoch 62/100\n",
            "108/108 [==============================] - 2s 19ms/step - loss: 0.1083 - val_loss: 0.1238\n",
            "Epoch 63/100\n",
            "108/108 [==============================] - 1s 13ms/step - loss: 0.1083 - val_loss: 0.1238\n",
            "Epoch 64/100\n",
            "108/108 [==============================] - 2s 14ms/step - loss: 0.1083 - val_loss: 0.1238\n",
            "Epoch 65/100\n",
            "108/108 [==============================] - 1s 14ms/step - loss: 0.1083 - val_loss: 0.1238\n",
            "Epoch 66/100\n",
            "108/108 [==============================] - 1s 14ms/step - loss: 0.1083 - val_loss: 0.1237\n",
            "Epoch 67/100\n",
            "108/108 [==============================] - 1s 14ms/step - loss: 0.1082 - val_loss: 0.1237\n",
            "Epoch 68/100\n",
            "108/108 [==============================] - 1s 13ms/step - loss: 0.1082 - val_loss: 0.1238\n",
            "Epoch 69/100\n",
            "108/108 [==============================] - 2s 16ms/step - loss: 0.1083 - val_loss: 0.1238\n",
            "Epoch 70/100\n",
            "108/108 [==============================] - 2s 18ms/step - loss: 0.1083 - val_loss: 0.1239\n",
            "Epoch 71/100\n",
            "108/108 [==============================] - 1s 14ms/step - loss: 0.1082 - val_loss: 0.1240\n",
            "Epoch 72/100\n",
            "108/108 [==============================] - 1s 14ms/step - loss: 0.1082 - val_loss: 0.1239\n",
            "Epoch 73/100\n",
            "108/108 [==============================] - 1s 14ms/step - loss: 0.1082 - val_loss: 0.1239\n",
            "Epoch 74/100\n",
            "108/108 [==============================] - 1s 14ms/step - loss: 0.1082 - val_loss: 0.1239\n",
            "Epoch 75/100\n",
            "108/108 [==============================] - 1s 14ms/step - loss: 0.1082 - val_loss: 0.1239\n",
            "Epoch 76/100\n",
            "108/108 [==============================] - 1s 14ms/step - loss: 0.1082 - val_loss: 0.1240\n",
            "Epoch 77/100\n",
            "108/108 [==============================] - 2s 20ms/step - loss: 0.1082 - val_loss: 0.1238\n",
            "Epoch 78/100\n",
            "108/108 [==============================] - 1s 14ms/step - loss: 0.1082 - val_loss: 0.1240\n",
            "Epoch 79/100\n",
            "108/108 [==============================] - 2s 14ms/step - loss: 0.1082 - val_loss: 0.1238\n",
            "Epoch 80/100\n",
            "108/108 [==============================] - 1s 13ms/step - loss: 0.1082 - val_loss: 0.1239\n",
            "Epoch 81/100\n",
            "108/108 [==============================] - 1s 13ms/step - loss: 0.1082 - val_loss: 0.1239\n",
            "Epoch 82/100\n",
            "108/108 [==============================] - 1s 13ms/step - loss: 0.1082 - val_loss: 0.1239\n",
            "Epoch 83/100\n",
            "108/108 [==============================] - 1s 14ms/step - loss: 0.1082 - val_loss: 0.1238\n",
            "Epoch 84/100\n",
            "108/108 [==============================] - 2s 15ms/step - loss: 0.1083 - val_loss: 0.1239\n",
            "Epoch 85/100\n",
            "108/108 [==============================] - 2s 19ms/step - loss: 0.1082 - val_loss: 0.1239\n",
            "Epoch 86/100\n",
            "108/108 [==============================] - 2s 14ms/step - loss: 0.1082 - val_loss: 0.1239\n",
            "Epoch 87/100\n",
            "108/108 [==============================] - 1s 13ms/step - loss: 0.1083 - val_loss: 0.1239\n",
            "Epoch 88/100\n",
            "108/108 [==============================] - 1s 13ms/step - loss: 0.1083 - val_loss: 0.1239\n",
            "Epoch 89/100\n",
            "108/108 [==============================] - 1s 13ms/step - loss: 0.1082 - val_loss: 0.1238\n",
            "Epoch 90/100\n",
            "108/108 [==============================] - 1s 13ms/step - loss: 0.1083 - val_loss: 0.1240\n",
            "Epoch 91/100\n",
            "108/108 [==============================] - 1s 13ms/step - loss: 0.1082 - val_loss: 0.1239\n",
            "Epoch 92/100\n",
            "108/108 [==============================] - 2s 17ms/step - loss: 0.1083 - val_loss: 0.1240\n",
            "Epoch 93/100\n",
            "108/108 [==============================] - 2s 16ms/step - loss: 0.1082 - val_loss: 0.1239\n",
            "Epoch 94/100\n",
            "108/108 [==============================] - 1s 14ms/step - loss: 0.1083 - val_loss: 0.1239\n",
            "Epoch 95/100\n",
            "108/108 [==============================] - 1s 14ms/step - loss: 0.1082 - val_loss: 0.1239\n",
            "Epoch 96/100\n",
            "108/108 [==============================] - 1s 14ms/step - loss: 0.1083 - val_loss: 0.1240\n",
            "Epoch 97/100\n",
            "108/108 [==============================] - 1s 13ms/step - loss: 0.1082 - val_loss: 0.1239\n",
            "Epoch 98/100\n",
            "108/108 [==============================] - 1s 13ms/step - loss: 0.1083 - val_loss: 0.1239\n",
            "Epoch 99/100\n",
            "108/108 [==============================] - 2s 14ms/step - loss: 0.1082 - val_loss: 0.1239\n",
            "Epoch 100/100\n",
            "108/108 [==============================] - 2s 20ms/step - loss: 0.1083 - val_loss: 0.1240\n"
          ]
        }
      ],
      "source": [
        "\n",
        "history = model.fit(X_train, y_train, epochs=100, batch_size=64, validation_split=0.1 ,  shuffle=False)"
      ]
    },
    {
      "cell_type": "code",
      "execution_count": null,
      "metadata": {
        "colab": {
          "base_uri": "https://localhost:8080/",
          "height": 430
        },
        "id": "mPrK389Xkg26",
        "outputId": "14ba6a76-466d-42c5-c02f-95898f28fc15"
      },
      "outputs": [
        {
          "output_type": "display_data",
          "data": {
            "text/plain": [
              "<Figure size 640x480 with 1 Axes>"
            ],
            "image/png": "[encoded data removed]"
          },
          "metadata": {}
        }
      ],
      "source": [
        "plt.plot(history.history['loss'], label='train')\n",
        "plt.plot(history.history['val_loss'], label='test')\n",
        "plt.legend()\n",
        "plt.show()"
      ]
    },
    {
      "cell_type": "code",
      "execution_count": null,
      "metadata": {
        "colab": {
          "base_uri": "https://localhost:8080/"
        },
        "id": "rU83K8rckkhg",
        "outputId": "fcc78eb5-7c91-426b-d8af-e94dcb9371b0"
      },
      "outputs": [
        {
          "output_type": "stream",
          "name": "stdout",
          "text": [
            "27/27 [==============================] - 1s 3ms/step\n"
          ]
        }
      ],
      "source": [
        "yhat = model.predict(X_test)"
      ]
    },
    {
      "cell_type": "code",
      "execution_count": null,
      "metadata": {
        "id": "yJqa7BwGknP2"
      },
      "outputs": [],
      "source": [
        "from sklearn.metrics import mean_absolute_error\n",
        "from sklearn.metrics import r2_score"
      ]
    },
    {
      "cell_type": "code",
      "execution_count": null,
      "metadata": {
        "colab": {
          "base_uri": "https://localhost:8080/"
        },
        "id": "CsqR5NcekzyT",
        "outputId": "164de128-7052-430a-9903-c72f891d77c9"
      },
      "outputs": [
        {
          "output_type": "execute_result",
          "data": {
            "text/plain": [
              "((849, 3, 7), (849, 3, 7))"
            ]
          },
          "metadata": {},
          "execution_count": 170
        }
      ],
      "source": [
        "yhat.shape,y_test.shape"
      ]
    },
    {
      "cell_type": "code",
      "execution_count": null,
      "metadata": {
        "id": "OVfi-TCRlDyI"
      },
      "outputs": [],
      "source": [
        "import numpy as np\n"
      ]
    },
    {
      "cell_type": "code",
      "execution_count": null,
      "metadata": {
        "id": "aA-bC9WalMvW"
      },
      "outputs": [],
      "source": [
        "x = np.array([5,5,2023]).reshape((1,1,3))"
      ]
    },
    {
      "cell_type": "code",
      "execution_count": null,
      "metadata": {
        "colab": {
          "base_uri": "https://localhost:8080/"
        },
        "id": "9CZF9S-ok9Ca",
        "outputId": "07175a2f-6940-49e9-a42e-a868b75a60e5"
      },
      "outputs": [
        {
          "name": "stdout",
          "output_type": "stream",
          "text": [
            "1/1 [==============================] - 1s 516ms/step\n",
            "(1, 7)\n"
          ]
        }
      ],
      "source": [
        "yhat = model.predict(x)\n",
        "print(np.array(yhat[0]).shape)"
      ]
    },
    {
      "cell_type": "code",
      "execution_count": null,
      "metadata": {
        "colab": {
          "base_uri": "https://localhost:8080/"
        },
        "id": "QikpE07Blc7Q",
        "outputId": "0b1e88b8-fa59-4d61-d93e-f426c153d5ac"
      },
      "outputs": [
        {
          "data": {
            "text/plain": [
              "array([[5.08170751e+01, 2.17784972e+02, 6.99601461e+01, 1.96461157e+01,\n",
              "        2.32842540e+01, 1.57920206e+01, 1.18897812e-02, 1.00000000e+00,\n",
              "        1.20000000e+01, 2.02300000e+03]])"
            ]
          },
          "execution_count": 173,
          "metadata": {},
          "output_type": "execute_result"
        }
      ],
      "source": [
        "mms.inverse_transform(np.array(list(yhat[0].flatten())+[0,1,1]).reshape(1,10))\n"
      ]
    },
    {
      "cell_type": "code",
      "execution_count": null,
      "metadata": {
        "id": "V1L7tLLQmoR2"
      },
      "outputs": [],
      "source": [
        "import joblib\n"
      ]
    },
    {
      "cell_type": "code",
      "execution_count": null,
      "metadata": {
        "colab": {
          "base_uri": "https://localhost:8080/"
        },
        "id": "x5mMAHxEmpBp",
        "outputId": "46898f99-fb12-400b-ff0f-332a7b8e334e"
      },
      "outputs": [
        {
          "output_type": "execute_result",
          "data": {
            "text/plain": [
              "['scaler_3.save']"
            ]
          },
          "metadata": {},
          "execution_count": 176
        }
      ],
      "source": [
        "joblib.dump(mms, 'scaler_3.save') "
      ]
    },
    {
      "cell_type": "code",
      "execution_count": null,
      "metadata": {
        "id": "fkWx2NXgmsdJ"
      },
      "outputs": [],
      "source": [
        "model.save('Model.h5')"
      ]
    }
  ],
  "metadata": {
    "colab": {
      "provenance": []
    },
    "kernelspec": {
      "display_name": "Python 3",
      "name": "python3"
    },
    "language_info": {
      "codemirror_mode": {
        "name": "ipython",
        "version": 3
      },
      "file_extension": ".py",
      "mimetype": "text/x-python",
      "name": "python",
      "nbconvert_exporter": "python",
      "pygments_lexer": "ipython3",
      "version": "3.9.7"
    }
  },
  "nbformat": 4,
  "nbformat_minor": 0
}